{
  "nbformat": 4,
  "nbformat_minor": 0,
  "metadata": {
    "colab": {
      "provenance": [],
      "toc_visible": true,
      "include_colab_link": true
    },
    "kernelspec": {
      "name": "python3",
      "display_name": "Python 3"
    },
    "language_info": {
      "name": "python"
    }
  },
  "cells": [
    {
      "cell_type": "markdown",
      "metadata": {
        "id": "view-in-github",
        "colab_type": "text"
      },
      "source": [
        "<a href=\"https://colab.research.google.com/github/KacperKaszuba0608/genotype-analysis/blob/main/VDR_genotype_analysis.ipynb\" target=\"_parent\"><img src=\"https://colab.research.google.com/assets/colab-badge.svg\" alt=\"Open In Colab\"/></a>"
      ]
    },
    {
      "cell_type": "markdown",
      "source": [
        "# WSTĘP\n"
      ],
      "metadata": {
        "id": "fxIvPW4VL7X2"
      }
    },
    {
      "cell_type": "markdown",
      "source": [
        "Gen receptora witaminy D (VDR) odgrywa kluczową rolę w regulacji wielu\n",
        "procesów fizjologicznych, w tym homeostazy wapnia, funkcji odpornościowych i różnicowania komórek [[1]](https://phmd.pl/resources/html/article/details?id=152552&language=pl).\n",
        "\n",
        "Dwa powszechne polimorfizmy w genie VDR, FokI i BsmI, zostały szeroko zbadane ze względu na ich potencjalny wpływ na funkcjonalność VDR i późniejsze konsekwencje zdrowotne [[2]](https://www.termedia.pl/-Wplyw-polimorfizmow-genu-VDR-na-otylosc-zmiany-metaboliczne-zaburzenia-masy-kostnej-i-procesy-nowotworowe-,138,36649,0,1.html). Wykazano między innymi, że polimorfizmy genów FokI C>T i BsmI G>A genu VDR mają istotną zależność w związku z podatnością na czerniaka [[3]](https://www.researchgate.net/publication/334263920_Association_of_vitamin_D_receptor_gene_FokI_CT_BsmI_GA_TaqI_TC_EcoRV_AG_ApaI_GT_and_Cdx2_GA_polymorphisms_with_risk_of_cutaneous_melanoma_a_meta-analysis_based_on_40_case-control_studies).\n",
        "\n",
        "Dlatego też analiza częstości występowania alleli ulegających polimorfizmom FokI i BsmI w genie VDR może pomóc w głębszym poznaniu szansy wystąpienia danego wariantu co było głównym celem niniejszej pracy.\n",
        "\n",
        "W trakcie analizy podjęto decyzję o sprawdzeniu kilku hipotez:\n",
        "1. Rozkład alleli w subpopulacjach `Cancer` i `Control` są zgodne z prawem Hardy'ego-Weinberga.\n",
        "2. Brak istotnych statystycznie różnic w częstościach występowania poszczególnych genotypów w grupie `Cancer` i `Control`\n",
        "3. Allel G częściej występuję niż allel A w wariancie typu FokI.\n",
        "4. Allel C częściej występuje niż allel T w wariancie typu BsmI."
      ],
      "metadata": {
        "id": "DtdbLmTIL9Ub"
      }
    },
    {
      "cell_type": "markdown",
      "source": [
        "# ZBIÓR DANYCH I METODOLOGIA"
      ],
      "metadata": {
        "id": "BwQPc4cjVdBv"
      }
    },
    {
      "cell_type": "markdown",
      "source": [
        "## Importowanie Bibliotek"
      ],
      "metadata": {
        "id": "ZVmH5U1Jrx-T"
      }
    },
    {
      "cell_type": "code",
      "execution_count": 1,
      "metadata": {
        "id": "-oYJKthh8dyL"
      },
      "outputs": [],
      "source": [
        "import pandas as pd\n",
        "import numpy as np\n",
        "import matplotlib.pyplot as plt\n",
        "from scipy.stats import chi2_contingency\n",
        "from scipy.stats import chi2"
      ]
    },
    {
      "cell_type": "markdown",
      "source": [
        "## Upload Pliku z Danymi"
      ],
      "metadata": {
        "id": "_8rCLAZphSOb"
      }
    },
    {
      "cell_type": "code",
      "source": [
        "from google.colab import files\n",
        "file_up = files.upload()"
      ],
      "metadata": {
        "id": "Gw3gu45daMNC",
        "colab": {
          "base_uri": "https://localhost:8080/",
          "height": 71
        },
        "outputId": "edc5d97c-6946-4a18-dd04-3d69ddcc6d06"
      },
      "execution_count": 2,
      "outputs": [
        {
          "output_type": "display_data",
          "data": {
            "text/plain": [
              "<IPython.core.display.HTML object>"
            ],
            "text/html": [
              "\n",
              "     <input type=\"file\" id=\"files-95407f4e-571a-4bcb-ac30-2b5bc4f595d2\" name=\"files[]\" multiple disabled\n",
              "        style=\"border:none\" />\n",
              "     <output id=\"result-95407f4e-571a-4bcb-ac30-2b5bc4f595d2\">\n",
              "      Upload widget is only available when the cell has been executed in the\n",
              "      current browser session. Please rerun this cell to enable.\n",
              "      </output>\n",
              "      <script>// Copyright 2017 Google LLC\n",
              "//\n",
              "// Licensed under the Apache License, Version 2.0 (the \"License\");\n",
              "// you may not use this file except in compliance with the License.\n",
              "// You may obtain a copy of the License at\n",
              "//\n",
              "//      http://www.apache.org/licenses/LICENSE-2.0\n",
              "//\n",
              "// Unless required by applicable law or agreed to in writing, software\n",
              "// distributed under the License is distributed on an \"AS IS\" BASIS,\n",
              "// WITHOUT WARRANTIES OR CONDITIONS OF ANY KIND, either express or implied.\n",
              "// See the License for the specific language governing permissions and\n",
              "// limitations under the License.\n",
              "\n",
              "/**\n",
              " * @fileoverview Helpers for google.colab Python module.\n",
              " */\n",
              "(function(scope) {\n",
              "function span(text, styleAttributes = {}) {\n",
              "  const element = document.createElement('span');\n",
              "  element.textContent = text;\n",
              "  for (const key of Object.keys(styleAttributes)) {\n",
              "    element.style[key] = styleAttributes[key];\n",
              "  }\n",
              "  return element;\n",
              "}\n",
              "\n",
              "// Max number of bytes which will be uploaded at a time.\n",
              "const MAX_PAYLOAD_SIZE = 100 * 1024;\n",
              "\n",
              "function _uploadFiles(inputId, outputId) {\n",
              "  const steps = uploadFilesStep(inputId, outputId);\n",
              "  const outputElement = document.getElementById(outputId);\n",
              "  // Cache steps on the outputElement to make it available for the next call\n",
              "  // to uploadFilesContinue from Python.\n",
              "  outputElement.steps = steps;\n",
              "\n",
              "  return _uploadFilesContinue(outputId);\n",
              "}\n",
              "\n",
              "// This is roughly an async generator (not supported in the browser yet),\n",
              "// where there are multiple asynchronous steps and the Python side is going\n",
              "// to poll for completion of each step.\n",
              "// This uses a Promise to block the python side on completion of each step,\n",
              "// then passes the result of the previous step as the input to the next step.\n",
              "function _uploadFilesContinue(outputId) {\n",
              "  const outputElement = document.getElementById(outputId);\n",
              "  const steps = outputElement.steps;\n",
              "\n",
              "  const next = steps.next(outputElement.lastPromiseValue);\n",
              "  return Promise.resolve(next.value.promise).then((value) => {\n",
              "    // Cache the last promise value to make it available to the next\n",
              "    // step of the generator.\n",
              "    outputElement.lastPromiseValue = value;\n",
              "    return next.value.response;\n",
              "  });\n",
              "}\n",
              "\n",
              "/**\n",
              " * Generator function which is called between each async step of the upload\n",
              " * process.\n",
              " * @param {string} inputId Element ID of the input file picker element.\n",
              " * @param {string} outputId Element ID of the output display.\n",
              " * @return {!Iterable<!Object>} Iterable of next steps.\n",
              " */\n",
              "function* uploadFilesStep(inputId, outputId) {\n",
              "  const inputElement = document.getElementById(inputId);\n",
              "  inputElement.disabled = false;\n",
              "\n",
              "  const outputElement = document.getElementById(outputId);\n",
              "  outputElement.innerHTML = '';\n",
              "\n",
              "  const pickedPromise = new Promise((resolve) => {\n",
              "    inputElement.addEventListener('change', (e) => {\n",
              "      resolve(e.target.files);\n",
              "    });\n",
              "  });\n",
              "\n",
              "  const cancel = document.createElement('button');\n",
              "  inputElement.parentElement.appendChild(cancel);\n",
              "  cancel.textContent = 'Cancel upload';\n",
              "  const cancelPromise = new Promise((resolve) => {\n",
              "    cancel.onclick = () => {\n",
              "      resolve(null);\n",
              "    };\n",
              "  });\n",
              "\n",
              "  // Wait for the user to pick the files.\n",
              "  const files = yield {\n",
              "    promise: Promise.race([pickedPromise, cancelPromise]),\n",
              "    response: {\n",
              "      action: 'starting',\n",
              "    }\n",
              "  };\n",
              "\n",
              "  cancel.remove();\n",
              "\n",
              "  // Disable the input element since further picks are not allowed.\n",
              "  inputElement.disabled = true;\n",
              "\n",
              "  if (!files) {\n",
              "    return {\n",
              "      response: {\n",
              "        action: 'complete',\n",
              "      }\n",
              "    };\n",
              "  }\n",
              "\n",
              "  for (const file of files) {\n",
              "    const li = document.createElement('li');\n",
              "    li.append(span(file.name, {fontWeight: 'bold'}));\n",
              "    li.append(span(\n",
              "        `(${file.type || 'n/a'}) - ${file.size} bytes, ` +\n",
              "        `last modified: ${\n",
              "            file.lastModifiedDate ? file.lastModifiedDate.toLocaleDateString() :\n",
              "                                    'n/a'} - `));\n",
              "    const percent = span('0% done');\n",
              "    li.appendChild(percent);\n",
              "\n",
              "    outputElement.appendChild(li);\n",
              "\n",
              "    const fileDataPromise = new Promise((resolve) => {\n",
              "      const reader = new FileReader();\n",
              "      reader.onload = (e) => {\n",
              "        resolve(e.target.result);\n",
              "      };\n",
              "      reader.readAsArrayBuffer(file);\n",
              "    });\n",
              "    // Wait for the data to be ready.\n",
              "    let fileData = yield {\n",
              "      promise: fileDataPromise,\n",
              "      response: {\n",
              "        action: 'continue',\n",
              "      }\n",
              "    };\n",
              "\n",
              "    // Use a chunked sending to avoid message size limits. See b/62115660.\n",
              "    let position = 0;\n",
              "    do {\n",
              "      const length = Math.min(fileData.byteLength - position, MAX_PAYLOAD_SIZE);\n",
              "      const chunk = new Uint8Array(fileData, position, length);\n",
              "      position += length;\n",
              "\n",
              "      const base64 = btoa(String.fromCharCode.apply(null, chunk));\n",
              "      yield {\n",
              "        response: {\n",
              "          action: 'append',\n",
              "          file: file.name,\n",
              "          data: base64,\n",
              "        },\n",
              "      };\n",
              "\n",
              "      let percentDone = fileData.byteLength === 0 ?\n",
              "          100 :\n",
              "          Math.round((position / fileData.byteLength) * 100);\n",
              "      percent.textContent = `${percentDone}% done`;\n",
              "\n",
              "    } while (position < fileData.byteLength);\n",
              "  }\n",
              "\n",
              "  // All done.\n",
              "  yield {\n",
              "    response: {\n",
              "      action: 'complete',\n",
              "    }\n",
              "  };\n",
              "}\n",
              "\n",
              "scope.google = scope.google || {};\n",
              "scope.google.colab = scope.google.colab || {};\n",
              "scope.google.colab._files = {\n",
              "  _uploadFiles,\n",
              "  _uploadFilesContinue,\n",
              "};\n",
              "})(self);\n",
              "</script> "
            ]
          },
          "metadata": {}
        },
        {
          "output_type": "stream",
          "name": "stdout",
          "text": [
            "Saving dane_projekt.xls to dane_projekt (1).xls\n"
          ]
        }
      ]
    },
    {
      "cell_type": "markdown",
      "source": [
        "## Definiowanie Potrzebnych Klas i Funkcji"
      ],
      "metadata": {
        "id": "HvaiGlYChUsF"
      }
    },
    {
      "cell_type": "markdown",
      "source": [
        "### Prawo Hardy'ego-Weinberg'a"
      ],
      "metadata": {
        "id": "Tvml6GqmnVOT"
      }
    },
    {
      "cell_type": "code",
      "source": [
        "class HardyWeinbergLaw:\n",
        "  def __init__(self,df):\n",
        "    '''input:\n",
        "      - df: data frame containing the number of zygotes\n",
        "    '''\n",
        "\n",
        "    # Data format check (3 rows only)\n",
        "    if df.shape[0] == 3:\n",
        "      # Calculate the necessary variables for the Hardy-Weinberg law\n",
        "      self.n = df.sum()\n",
        "      self.d = df.iloc[0]\n",
        "      self.h = df.iloc[1]\n",
        "      self.r = df.iloc[2]\n",
        "    else:\n",
        "      self.n = df.sum()\n",
        "      self.d = df.iloc[0]\n",
        "      self.h = df.iloc[1] + df.iloc[2]\n",
        "      self.r = df.iloc[-1]\n",
        "\n",
        "  def freq(self):\n",
        "    self.p = float((self.d + self.h/2) / self.n)\n",
        "    self.q = 1 - self.p\n",
        "    return {'p':self.p, 'q':self.q}\n",
        "\n",
        "  def data(self):\n",
        "    p, q = self.freq()\n",
        "    # Calculate theoretical values of zygotes\n",
        "    self.de = self.n * self.p**2\n",
        "    self.he = (2*self.p*self.q) * self.n\n",
        "    self.re = self.n * self.q**2\n",
        "\n",
        "    # Create an eye-friendly format of the empirical and theoretical values\n",
        "    self.teo_vs_emp = pd.DataFrame({'emp':[self.d,self.h,self.r], 'teo':[self.de,self.he,self.re]},\n",
        "                                   index=['de', 'he', 're'])\n",
        "\n",
        "    return self.teo_vs_emp\n",
        "\n",
        "  def chi2_statistic(self,alpha=0.05):\n",
        "    '''input:\n",
        "        - alpha: significance level for the Chi2 test (default: alpha=0.05)\n",
        "    ouptut:\n",
        "        - data frame with results\n",
        "    '''\n",
        "    p, q = self.freq()\n",
        "    teo_vs_emp = self.data()\n",
        "    # Calculate values for Chi2 statistic\n",
        "    teo_vs_emp['value_to_chi2'] = (teo_vs_emp['emp'] - teo_vs_emp['teo'])**2 / teo_vs_emp['teo']\n",
        "\n",
        "    # Calculate Chi2 statistic\n",
        "    statchisq = teo_vs_emp['value_to_chi2'].sum()\n",
        "\n",
        "    # Calculate quantile from Chi2 distribution\n",
        "    qchisq = chi2.ppf(1-alpha,2)\n",
        "\n",
        "    # Making a decision about a hypothesis\n",
        "    decision = 'H0 rejected' if statchisq > qchisq else 'H0 not rejected'\n",
        "\n",
        "    # Calculate pvalue for Chi2 statistic\n",
        "    pvalue = 1 - chi2.cdf(statchisq, 1)\n",
        "\n",
        "    # Create an eye-friendly format of the Chi2 test\n",
        "    self.chi2_stat = pd.DataFrame({'statistic':statchisq, 'quantile':qchisq,\n",
        "                                    'p.value': pvalue, 'decision': decision},\n",
        "                                  index=['results'])\n",
        "    return self.chi2_stat"
      ],
      "metadata": {
        "id": "TPkAWYURnbXy"
      },
      "execution_count": 3,
      "outputs": []
    },
    {
      "cell_type": "markdown",
      "source": [
        "### Test χ²"
      ],
      "metadata": {
        "id": "2lszxFUehqPE"
      }
    },
    {
      "cell_type": "code",
      "source": [
        "def licz_chi2(seria, alpha=0.05):\n",
        "    '''input:\n",
        "        * seria: padnas series from groupby function. Grouped by 'Grupa' and 'variant'\n",
        "        * alpha: significance level for the Chi2 test (default: alpha=0.05)\n",
        "    output:\n",
        "        * Chi2 statistic\n",
        "        * quntile\n",
        "        * decision of test'''\n",
        "\n",
        "    # check the length of the series\n",
        "    n1 = len(seria)\n",
        "    # create new n for divifing into two groups\n",
        "    n2 = int(n1/2)\n",
        "    # separate the series\n",
        "    cancer = seria[:n2]\n",
        "    control = seria[n2:]\n",
        "\n",
        "    # quantile for statistic\n",
        "    qchisq = chi2.ppf(1-alpha,n2-1)\n",
        "\n",
        "    # statistics variable\n",
        "    stat = 0\n",
        "    # iterator\n",
        "    k = 0\n",
        "\n",
        "    # calculating chi2 statistics\n",
        "    for i, j in zip(cancer, control):\n",
        "        teo = ((i+j) * sum(cancer)) / sum(seria)\n",
        "        stat += (seria[k] - teo)**2 / teo\n",
        "\n",
        "        teo = ((i+j) * sum(control)) / sum(seria)\n",
        "        stat += (seria[k+n2] - teo)**2 / teo\n",
        "        k += 1\n",
        "\n",
        "    # Calculate pvalue for Chi2 statistic\n",
        "    pvalue = 1 - chi2.cdf(stat, n2-1)\n",
        "\n",
        "    # printing results\n",
        "    print('Contingency Table')\n",
        "    print(np.matrix([cancer, control]))\n",
        "    print('################')\n",
        "    print(f'Chi2 statistics: {round(stat,5)}',\n",
        "          f'quantile: {round(qchisq,5)}',\n",
        "          f'p-value: {pvalue}',\n",
        "          'H0 rejected' if stat > qchisq else 'H0 not rejected', sep='\\n')\n",
        "\n",
        "    # return round(stat,5), round(qchisq,5)"
      ],
      "metadata": {
        "id": "NYGYS6RSE9hm"
      },
      "execution_count": 4,
      "outputs": []
    },
    {
      "cell_type": "markdown",
      "source": [
        "### Odds Ratio Test"
      ],
      "metadata": {
        "id": "xKTpMtVAhvqc"
      }
    },
    {
      "cell_type": "code",
      "source": [
        "def oddsratio(data, variant):\n",
        "    '''input:\n",
        "    - data: 1 col data frame\n",
        "    - variant: name of column with gontypes of variants (str)\n",
        "    output:\n",
        "    - odds ratio of allels\n",
        "    '''\n",
        "\n",
        "    # group data by group and variant of the polymorphism\n",
        "    data = data.groupby(['Grupa', variant]).size().astype('int')\n",
        "\n",
        "    # calculate the shape of data and take the number of rows\n",
        "    n = data.shape[0]\n",
        "\n",
        "    # dividing data to two groups\n",
        "    cancer = data[:int(n/2)]\n",
        "    control = data[int(n/2):]\n",
        "\n",
        "    # calculate allels from heterozygotes\n",
        "    if n/2 == 4:\n",
        "        hetero_con = control[1]/2 + control[2]/2\n",
        "        hetero_can = cancer[1]/2 + cancer[2]/2\n",
        "    else:\n",
        "        hetero_con = control[1]/2\n",
        "        hetero_can = cancer[1]/2\n",
        "\n",
        "    # create matrix with counts of allels dividing to two groups (contingency table)\n",
        "    conti = np.matrix([[cancer[0] + hetero_can, control[0] + hetero_con],\n",
        "                        [cancer[2] + hetero_can, control[2] + hetero_con]])\n",
        "\n",
        "    # calcualre odds ratio based on contingency table\n",
        "    OR = (conti[0,0]/conti[0,1]) / (conti[0,1]/conti[1,1])\n",
        "\n",
        "    return f'Odds ratio: {round(OR,5)}'"
      ],
      "metadata": {
        "id": "EhRBg98Emg7C"
      },
      "execution_count": 5,
      "outputs": []
    },
    {
      "cell_type": "markdown",
      "source": [
        "## 1. Opis Danych"
      ],
      "metadata": {
        "id": "EvgjmedfsxUW"
      }
    },
    {
      "cell_type": "code",
      "source": [
        "df = pd.read_excel('dane_projekt.xls')\n",
        "df.info()"
      ],
      "metadata": {
        "id": "TYPeE3r98j9a",
        "colab": {
          "base_uri": "https://localhost:8080/"
        },
        "outputId": "27ed371d-55a3-4809-a506-ca1553df420a"
      },
      "execution_count": 6,
      "outputs": [
        {
          "output_type": "stream",
          "name": "stdout",
          "text": [
            "<class 'pandas.core.frame.DataFrame'>\n",
            "RangeIndex: 645 entries, 0 to 644\n",
            "Data columns (total 3 columns):\n",
            " #   Column    Non-Null Count  Dtype \n",
            "---  ------    --------------  ----- \n",
            " 0   Grupa     645 non-null    object\n",
            " 1   VDR FokI  645 non-null    object\n",
            " 2   BSM       582 non-null    object\n",
            "dtypes: object(3)\n",
            "memory usage: 15.2+ KB\n"
          ]
        }
      ]
    },
    {
      "cell_type": "markdown",
      "source": [
        "Dane dostarczone zostały w formacie xls i zawierały 3 kolumny:\n",
        "1. `Grupa` - zawiera informacje do jakiej grupy należy genotyp\n",
        "2. `VDR FokI` - zawiera genotypy polimorfizmu typu FokI\n",
        "3. `BSM` - zawiera genotypy polimofrizmy typu BsmI\n",
        "\n",
        "Powyższy wydruk z metody `info()` pokazuje, że kolumna BSM zawiera mniej wierszy, więc będzie trzeba wyczyścić dane przed analizą."
      ],
      "metadata": {
        "id": "dVC7RvX-GTDf"
      }
    },
    {
      "cell_type": "code",
      "source": [
        "df.iloc[:,0].unique()"
      ],
      "metadata": {
        "colab": {
          "base_uri": "https://localhost:8080/"
        },
        "id": "NMkysbcqdWGI",
        "outputId": "490ee96c-b670-4e5f-ae74-10bf91cf9488"
      },
      "execution_count": 7,
      "outputs": [
        {
          "output_type": "execute_result",
          "data": {
            "text/plain": [
              "array(['Cancer', 'Control'], dtype=object)"
            ]
          },
          "metadata": {},
          "execution_count": 7
        }
      ]
    },
    {
      "cell_type": "code",
      "source": [
        "df.iloc[:,1].unique()"
      ],
      "metadata": {
        "colab": {
          "base_uri": "https://localhost:8080/"
        },
        "id": "bkWV6XgEd-Zv",
        "outputId": "9a5ae242-7b08-4cc8-f8ae-788ab2ec0a07"
      },
      "execution_count": 8,
      "outputs": [
        {
          "output_type": "execute_result",
          "data": {
            "text/plain": [
              "array(['GG', 'AG', 'AA'], dtype=object)"
            ]
          },
          "metadata": {},
          "execution_count": 8
        }
      ]
    },
    {
      "cell_type": "code",
      "source": [
        "df.iloc[:,2].unique()"
      ],
      "metadata": {
        "colab": {
          "base_uri": "https://localhost:8080/"
        },
        "id": "jxA4NZp2d_oP",
        "outputId": "892f941a-fbb1-4d54-e6db-afe3973d8591"
      },
      "execution_count": 9,
      "outputs": [
        {
          "output_type": "execute_result",
          "data": {
            "text/plain": [
              "array(['CC', 'CT', 'TT', 'TC', nan], dtype=object)"
            ]
          },
          "metadata": {},
          "execution_count": 9
        }
      ]
    },
    {
      "cell_type": "markdown",
      "source": [
        "Dane w pierwszej kolumnie zawierają 3 wartości: `Cancer` i `Control`.\n",
        "\n",
        "Dane w drugiej kolumnie zawierają 4 wartości: `GG`, `AG` i `AA`.\n",
        "\n",
        "Dane w trzeciej kolumnie zawierają 5 wartości: `CC`, `CT`, `TT`, `TC` i `nan` (należy wyczyścić).\n",
        "\n",
        "Każda z kolumn zawiera wartości typu string."
      ],
      "metadata": {
        "id": "Th1eXZGcdvWY"
      }
    },
    {
      "cell_type": "markdown",
      "source": [
        "## 2. Metodologia"
      ],
      "metadata": {
        "id": "zBmzOo5me47g"
      }
    },
    {
      "cell_type": "markdown",
      "source": [
        "### 2.1. Prawo Hardy'ego-Weinberga"
      ],
      "metadata": {
        "id": "PuexbKjfs1Cx"
      }
    },
    {
      "cell_type": "markdown",
      "source": [
        "Równowaga Hardy'ego-Weinberga to podstawowa zasada genetyki populacyjnej, która opisuje rozkład zmienności genetycznej w populacji na przestrzeni pokoleń przy braku wpływów ewolucyjnych. Prawo zapewnia matematyczne ramy umożliwiające przewidywanie częstości genotypów na podstawie częstości alleli. Wyraża się je wzorem:\n",
        "\n",
        "<center>\n",
        "$p^2 + 2pq + q^2 = 1$, $\\hspace{0.5cm}$ gdzie\n",
        "</center>\n",
        "\n",
        "$p^2 \\hspace{0.5cm}$ - frekwencja homozygot dominujących (AA) \\\\\n",
        "$2pq \\hspace{0.23cm}$ - frekwencja heterozygot (Aa) \\\\\n",
        "$q^2 \\hspace{0.5cm}$ - frekwencja homozygot recesywnych (aa)\n"
      ],
      "metadata": {
        "id": "I5fUjObftvA-"
      }
    },
    {
      "cell_type": "markdown",
      "source": [
        "### 2.2. Test χ²"
      ],
      "metadata": {
        "id": "t65LMygrtmde"
      }
    },
    {
      "cell_type": "markdown",
      "source": [
        "Test Chi-kwadrat to metoda statystyczna szeroko stosowana do analizy danych kategorycznych i określenia, czy istnieje istotny związek między dwiema zmiennymi. Test ten ocenia różnicę między obserwowanymi i oczekiwanymi częstotliwościami w ramach tabeli kontyngencji. Zapewnia cenny wgląd w niezależność lub zależność zmiennych. Definuje się go wzorem:\n",
        "\n",
        "<center>\n",
        "$χ^2 = \\sum^n_{i=1} \\frac{(O_i - E_i)^2}{E_i}$, $\\hspace{0.5cm}$ gdzie:\n",
        "</center>\n",
        "\n",
        "$n \\hspace{0.5cm}$ - ilość wartości empirycznych \\\\\n",
        "$O_i \\hspace{0.27cm}$ - wartości obserwowane (empiryczne) \\\\\n",
        "$E_i \\hspace{0.27cm}$ - wartości oczekiwane (teoretyczne)"
      ],
      "metadata": {
        "id": "xxuy0VmCu125"
      }
    },
    {
      "cell_type": "markdown",
      "source": [
        "### 2.3. Odds Ratio"
      ],
      "metadata": {
        "id": "wVmuzlfHtp52"
      }
    },
    {
      "cell_type": "markdown",
      "source": [
        "W dziedzinie analizy statystycznej iloraz szans wyróżnia się jako fundamentalna miara, odgrywająca rolę w ocenie związku między zmiennymi. Dla danej tabeli kontyngencji:\n",
        "<center>\n",
        "<table>\n",
        "<tr>\n",
        "<th> </th>\n",
        "<th>Cancer</th>\n",
        "<th>Control</th>\n",
        "</tr>\n",
        "<tr>\n",
        "  <td>Allel 1</td>\n",
        "  <td><center>A</center></td>\n",
        "  <td><center>C</center></td>\n",
        "<tr>\n",
        "<tr>\n",
        "  <td>Allel 2</td>\n",
        "  <td><center>B</center></td>\n",
        "  <td><center>D</center></td>\n",
        "<tr>\n",
        "</table>\n",
        "</center>\n",
        "\n",
        "Definiuje się go wzorem:\n",
        "\n",
        "<center>\n",
        "$OR = \\frac{A/B}{C/D}$\n",
        "</center>\n",
        "\n",
        "Służy do ilościowego określania prawdopodobieństwa wystąpienia zdarzenia w jednej grupie w porównaniu z inną. Stanowi stosunek wielkości szansy w danej grupie (interesującej nas) w porównaniu do drugiej grupy, grupy odniesienia, często grupy kontrolnej."
      ],
      "metadata": {
        "id": "vkvqghsBvoMR"
      }
    },
    {
      "cell_type": "markdown",
      "source": [
        "### 2.4. Programy"
      ],
      "metadata": {
        "id": "HMyylmiffNQW"
      }
    },
    {
      "cell_type": "markdown",
      "source": [
        "Do analizy użyto języka programowania Python 3.10.12 oraz jego bibliotek takich jak:\n",
        "* Pandas 1.5.3\n",
        "* Numpy 1.23.5\n",
        "* Scipy 1.11.4\n",
        "* google.colab 0.0.1a2"
      ],
      "metadata": {
        "id": "0e1-4cVBfRzW"
      }
    },
    {
      "cell_type": "markdown",
      "source": [
        "## OBRÓBKA DANYCH"
      ],
      "metadata": {
        "id": "bV5E03B7r7mh"
      }
    },
    {
      "cell_type": "markdown",
      "source": [
        "Pierwszą ważną zmianą jest poprawa nazwy 2 kolumny. Zrobiono to w celu zachowania standardu nazewnictwa (brak spacji) oraz aby była bardziej informatywna."
      ],
      "metadata": {
        "id": "QxXC4yIQglDF"
      }
    },
    {
      "cell_type": "code",
      "source": [
        "df.columns.values[1] = \"FokI\""
      ],
      "metadata": {
        "id": "XK8EW1vA9Ogi"
      },
      "execution_count": 10,
      "outputs": []
    },
    {
      "cell_type": "markdown",
      "source": [
        "Po zmianie nazw kolumn na odpowiednie sprawdzono, czy dane nie zawierają brakujących wartości (NA lub NaN), które są nie porządane w niniejszej analizie."
      ],
      "metadata": {
        "id": "Hg-orUIqywfO"
      }
    },
    {
      "cell_type": "code",
      "source": [
        "df.isna().sum()"
      ],
      "metadata": {
        "colab": {
          "base_uri": "https://localhost:8080/"
        },
        "id": "WsF_Uf7osqDx",
        "outputId": "b38ddbdf-f4f5-4072-8015-30a809c8156d"
      },
      "execution_count": 11,
      "outputs": [
        {
          "output_type": "execute_result",
          "data": {
            "text/plain": [
              "Grupa     0\n",
              "FokI      0\n",
              "BSM      63\n",
              "dtype: int64"
            ]
          },
          "metadata": {},
          "execution_count": 11
        }
      ]
    },
    {
      "cell_type": "markdown",
      "source": [
        "Jak widać kolumna dotycząca genu BSM zawiera 63 rekordy z brakującymi wartościami. Jednymy rozsądnym rozwiązaniem jest usunięcie tych wierszy, ponieważ nie możliwe jest wyestymowanie wartości.\n",
        "\n",
        "Do analizy potrzebne będą różne zbiory danych, dlatego jeszcze przed analizą dobrym pomysłem jest podzielenie zbioru danych na dwa osobne zawierające informacje wyłącznie o jednym genie, tzn. :\n",
        "* **fokI** - zbiór danych zawierający kolumny `Grupa` i `FokI`;\n",
        "* **bsm** - zbiór danych zawierający kolumny `Grupa` i `BSM`."
      ],
      "metadata": {
        "id": "GB6bc9bKzEtD"
      }
    },
    {
      "cell_type": "code",
      "source": [
        "fokI = df.iloc[:,:2]\n",
        "bsm = pd.concat([df.iloc[:,0], df.iloc[:,2]], axis=1)"
      ],
      "metadata": {
        "id": "VuhubFWcxe4V"
      },
      "execution_count": 12,
      "outputs": []
    },
    {
      "cell_type": "markdown",
      "source": [
        "Po podzieleniu głównego data frame'u na dwa osobne zajęto się usunięciem brakujących danych ze zbioru `bsm`."
      ],
      "metadata": {
        "id": "Swo7AiuP0BdO"
      }
    },
    {
      "cell_type": "code",
      "source": [
        "bsm = bsm.dropna()\n",
        "bsm.isna().sum()"
      ],
      "metadata": {
        "colab": {
          "base_uri": "https://localhost:8080/"
        },
        "id": "EcoE5XR5xx_T",
        "outputId": "df473eb1-1b44-4def-c082-91074706021c"
      },
      "execution_count": 13,
      "outputs": [
        {
          "output_type": "execute_result",
          "data": {
            "text/plain": [
              "Grupa    0\n",
              "BSM      0\n",
              "dtype: int64"
            ]
          },
          "metadata": {},
          "execution_count": 13
        }
      ]
    },
    {
      "cell_type": "markdown",
      "source": [
        "# WYNIKI I DYSKUSJA"
      ],
      "metadata": {
        "id": "XdMtrF4Z_rC_"
      }
    },
    {
      "cell_type": "markdown",
      "source": [
        "## Zgodność z Prawem HW"
      ],
      "metadata": {
        "id": "x7E8vO9pGJsh"
      }
    },
    {
      "cell_type": "markdown",
      "source": [
        "### Cancer FokI"
      ],
      "metadata": {
        "id": "uCRHV-fu_unk"
      }
    },
    {
      "cell_type": "markdown",
      "source": [
        "\n",
        "$H_0$: Rozkład alleli w subpoplacji `Cancer` wariantu `FokI` jest zgodny z rozkładem Hardy'ego-Weinberg'a. \\\\\n",
        "$H_1$:  Rozkład alleli w subpoplacji `Cancer` wariantu `FokI` nie jest zgodny z rozkładem Hardy'ego-Weinberg'a."
      ],
      "metadata": {
        "id": "VIKH4Okq7IWu"
      }
    },
    {
      "cell_type": "code",
      "source": [
        "cancer_FOK = fokI[fokI['Grupa'] == 'Cancer'].groupby('FokI').size()\n",
        "res1 = HardyWeinbergLaw(cancer_FOK)"
      ],
      "metadata": {
        "id": "tCFCz2FB4-qH"
      },
      "execution_count": 14,
      "outputs": []
    },
    {
      "cell_type": "markdown",
      "source": [
        "Wartości frekwencji alleli $p$ i $q$ wynoszą odpowiednio:"
      ],
      "metadata": {
        "id": "q48nORqq8OgW"
      }
    },
    {
      "cell_type": "code",
      "source": [
        "res1.freq()"
      ],
      "metadata": {
        "colab": {
          "base_uri": "https://localhost:8080/"
        },
        "id": "es6txk9D_XDl",
        "outputId": "745f8ae1-e52f-4175-8fb9-564a21e2bd08"
      },
      "execution_count": 15,
      "outputs": [
        {
          "output_type": "execute_result",
          "data": {
            "text/plain": [
              "{'p': 0.5036231884057971, 'q': 0.4963768115942029}"
            ]
          },
          "metadata": {},
          "execution_count": 15
        }
      ]
    },
    {
      "cell_type": "markdown",
      "source": [
        "Oznacza to, że w subpopulacji *Cancer* wariantu FokI zarówno allel dominujący A jak i recesywny G występują mniej więcej z taką samą częstością równą $\\frac{1}{2}$."
      ],
      "metadata": {
        "id": "FbrPEevMc05s"
      }
    },
    {
      "cell_type": "markdown",
      "source": [
        "Wartości empirczyne w porówaniu z wartościami teoretycznymi w tabeli poniżej:"
      ],
      "metadata": {
        "id": "-4D4DV2v8e41"
      }
    },
    {
      "cell_type": "code",
      "source": [
        "res1.data()"
      ],
      "metadata": {
        "colab": {
          "base_uri": "https://localhost:8080/",
          "height": 143
        },
        "id": "0wBln0Qb9bBv",
        "outputId": "f499d50f-dcba-4e5d-c543-73d706f52589"
      },
      "execution_count": 16,
      "outputs": [
        {
          "output_type": "execute_result",
          "data": {
            "text/plain": [
              "    emp         teo\n",
              "de   92   70.003623\n",
              "he   94  137.992754\n",
              "re   90   68.003623"
            ],
            "text/html": [
              "\n",
              "  <div id=\"df-02778c23-1703-4d80-b4c3-3f262a1dc971\" class=\"colab-df-container\">\n",
              "    <div>\n",
              "<style scoped>\n",
              "    .dataframe tbody tr th:only-of-type {\n",
              "        vertical-align: middle;\n",
              "    }\n",
              "\n",
              "    .dataframe tbody tr th {\n",
              "        vertical-align: top;\n",
              "    }\n",
              "\n",
              "    .dataframe thead th {\n",
              "        text-align: right;\n",
              "    }\n",
              "</style>\n",
              "<table border=\"1\" class=\"dataframe\">\n",
              "  <thead>\n",
              "    <tr style=\"text-align: right;\">\n",
              "      <th></th>\n",
              "      <th>emp</th>\n",
              "      <th>teo</th>\n",
              "    </tr>\n",
              "  </thead>\n",
              "  <tbody>\n",
              "    <tr>\n",
              "      <th>de</th>\n",
              "      <td>92</td>\n",
              "      <td>70.003623</td>\n",
              "    </tr>\n",
              "    <tr>\n",
              "      <th>he</th>\n",
              "      <td>94</td>\n",
              "      <td>137.992754</td>\n",
              "    </tr>\n",
              "    <tr>\n",
              "      <th>re</th>\n",
              "      <td>90</td>\n",
              "      <td>68.003623</td>\n",
              "    </tr>\n",
              "  </tbody>\n",
              "</table>\n",
              "</div>\n",
              "    <div class=\"colab-df-buttons\">\n",
              "\n",
              "  <div class=\"colab-df-container\">\n",
              "    <button class=\"colab-df-convert\" onclick=\"convertToInteractive('df-02778c23-1703-4d80-b4c3-3f262a1dc971')\"\n",
              "            title=\"Convert this dataframe to an interactive table.\"\n",
              "            style=\"display:none;\">\n",
              "\n",
              "  <svg xmlns=\"http://www.w3.org/2000/svg\" height=\"24px\" viewBox=\"0 -960 960 960\">\n",
              "    <path d=\"M120-120v-720h720v720H120Zm60-500h600v-160H180v160Zm220 220h160v-160H400v160Zm0 220h160v-160H400v160ZM180-400h160v-160H180v160Zm440 0h160v-160H620v160ZM180-180h160v-160H180v160Zm440 0h160v-160H620v160Z\"/>\n",
              "  </svg>\n",
              "    </button>\n",
              "\n",
              "  <style>\n",
              "    .colab-df-container {\n",
              "      display:flex;\n",
              "      gap: 12px;\n",
              "    }\n",
              "\n",
              "    .colab-df-convert {\n",
              "      background-color: #E8F0FE;\n",
              "      border: none;\n",
              "      border-radius: 50%;\n",
              "      cursor: pointer;\n",
              "      display: none;\n",
              "      fill: #1967D2;\n",
              "      height: 32px;\n",
              "      padding: 0 0 0 0;\n",
              "      width: 32px;\n",
              "    }\n",
              "\n",
              "    .colab-df-convert:hover {\n",
              "      background-color: #E2EBFA;\n",
              "      box-shadow: 0px 1px 2px rgba(60, 64, 67, 0.3), 0px 1px 3px 1px rgba(60, 64, 67, 0.15);\n",
              "      fill: #174EA6;\n",
              "    }\n",
              "\n",
              "    .colab-df-buttons div {\n",
              "      margin-bottom: 4px;\n",
              "    }\n",
              "\n",
              "    [theme=dark] .colab-df-convert {\n",
              "      background-color: #3B4455;\n",
              "      fill: #D2E3FC;\n",
              "    }\n",
              "\n",
              "    [theme=dark] .colab-df-convert:hover {\n",
              "      background-color: #434B5C;\n",
              "      box-shadow: 0px 1px 3px 1px rgba(0, 0, 0, 0.15);\n",
              "      filter: drop-shadow(0px 1px 2px rgba(0, 0, 0, 0.3));\n",
              "      fill: #FFFFFF;\n",
              "    }\n",
              "  </style>\n",
              "\n",
              "    <script>\n",
              "      const buttonEl =\n",
              "        document.querySelector('#df-02778c23-1703-4d80-b4c3-3f262a1dc971 button.colab-df-convert');\n",
              "      buttonEl.style.display =\n",
              "        google.colab.kernel.accessAllowed ? 'block' : 'none';\n",
              "\n",
              "      async function convertToInteractive(key) {\n",
              "        const element = document.querySelector('#df-02778c23-1703-4d80-b4c3-3f262a1dc971');\n",
              "        const dataTable =\n",
              "          await google.colab.kernel.invokeFunction('convertToInteractive',\n",
              "                                                    [key], {});\n",
              "        if (!dataTable) return;\n",
              "\n",
              "        const docLinkHtml = 'Like what you see? Visit the ' +\n",
              "          '<a target=\"_blank\" href=https://colab.research.google.com/notebooks/data_table.ipynb>data table notebook</a>'\n",
              "          + ' to learn more about interactive tables.';\n",
              "        element.innerHTML = '';\n",
              "        dataTable['output_type'] = 'display_data';\n",
              "        await google.colab.output.renderOutput(dataTable, element);\n",
              "        const docLink = document.createElement('div');\n",
              "        docLink.innerHTML = docLinkHtml;\n",
              "        element.appendChild(docLink);\n",
              "      }\n",
              "    </script>\n",
              "  </div>\n",
              "\n",
              "\n",
              "<div id=\"df-a41a2f9b-0c0a-4f12-b7ce-d85d4c1a8ffe\">\n",
              "  <button class=\"colab-df-quickchart\" onclick=\"quickchart('df-a41a2f9b-0c0a-4f12-b7ce-d85d4c1a8ffe')\"\n",
              "            title=\"Suggest charts\"\n",
              "            style=\"display:none;\">\n",
              "\n",
              "<svg xmlns=\"http://www.w3.org/2000/svg\" height=\"24px\"viewBox=\"0 0 24 24\"\n",
              "     width=\"24px\">\n",
              "    <g>\n",
              "        <path d=\"M19 3H5c-1.1 0-2 .9-2 2v14c0 1.1.9 2 2 2h14c1.1 0 2-.9 2-2V5c0-1.1-.9-2-2-2zM9 17H7v-7h2v7zm4 0h-2V7h2v10zm4 0h-2v-4h2v4z\"/>\n",
              "    </g>\n",
              "</svg>\n",
              "  </button>\n",
              "\n",
              "<style>\n",
              "  .colab-df-quickchart {\n",
              "      --bg-color: #E8F0FE;\n",
              "      --fill-color: #1967D2;\n",
              "      --hover-bg-color: #E2EBFA;\n",
              "      --hover-fill-color: #174EA6;\n",
              "      --disabled-fill-color: #AAA;\n",
              "      --disabled-bg-color: #DDD;\n",
              "  }\n",
              "\n",
              "  [theme=dark] .colab-df-quickchart {\n",
              "      --bg-color: #3B4455;\n",
              "      --fill-color: #D2E3FC;\n",
              "      --hover-bg-color: #434B5C;\n",
              "      --hover-fill-color: #FFFFFF;\n",
              "      --disabled-bg-color: #3B4455;\n",
              "      --disabled-fill-color: #666;\n",
              "  }\n",
              "\n",
              "  .colab-df-quickchart {\n",
              "    background-color: var(--bg-color);\n",
              "    border: none;\n",
              "    border-radius: 50%;\n",
              "    cursor: pointer;\n",
              "    display: none;\n",
              "    fill: var(--fill-color);\n",
              "    height: 32px;\n",
              "    padding: 0;\n",
              "    width: 32px;\n",
              "  }\n",
              "\n",
              "  .colab-df-quickchart:hover {\n",
              "    background-color: var(--hover-bg-color);\n",
              "    box-shadow: 0 1px 2px rgba(60, 64, 67, 0.3), 0 1px 3px 1px rgba(60, 64, 67, 0.15);\n",
              "    fill: var(--button-hover-fill-color);\n",
              "  }\n",
              "\n",
              "  .colab-df-quickchart-complete:disabled,\n",
              "  .colab-df-quickchart-complete:disabled:hover {\n",
              "    background-color: var(--disabled-bg-color);\n",
              "    fill: var(--disabled-fill-color);\n",
              "    box-shadow: none;\n",
              "  }\n",
              "\n",
              "  .colab-df-spinner {\n",
              "    border: 2px solid var(--fill-color);\n",
              "    border-color: transparent;\n",
              "    border-bottom-color: var(--fill-color);\n",
              "    animation:\n",
              "      spin 1s steps(1) infinite;\n",
              "  }\n",
              "\n",
              "  @keyframes spin {\n",
              "    0% {\n",
              "      border-color: transparent;\n",
              "      border-bottom-color: var(--fill-color);\n",
              "      border-left-color: var(--fill-color);\n",
              "    }\n",
              "    20% {\n",
              "      border-color: transparent;\n",
              "      border-left-color: var(--fill-color);\n",
              "      border-top-color: var(--fill-color);\n",
              "    }\n",
              "    30% {\n",
              "      border-color: transparent;\n",
              "      border-left-color: var(--fill-color);\n",
              "      border-top-color: var(--fill-color);\n",
              "      border-right-color: var(--fill-color);\n",
              "    }\n",
              "    40% {\n",
              "      border-color: transparent;\n",
              "      border-right-color: var(--fill-color);\n",
              "      border-top-color: var(--fill-color);\n",
              "    }\n",
              "    60% {\n",
              "      border-color: transparent;\n",
              "      border-right-color: var(--fill-color);\n",
              "    }\n",
              "    80% {\n",
              "      border-color: transparent;\n",
              "      border-right-color: var(--fill-color);\n",
              "      border-bottom-color: var(--fill-color);\n",
              "    }\n",
              "    90% {\n",
              "      border-color: transparent;\n",
              "      border-bottom-color: var(--fill-color);\n",
              "    }\n",
              "  }\n",
              "</style>\n",
              "\n",
              "  <script>\n",
              "    async function quickchart(key) {\n",
              "      const quickchartButtonEl =\n",
              "        document.querySelector('#' + key + ' button');\n",
              "      quickchartButtonEl.disabled = true;  // To prevent multiple clicks.\n",
              "      quickchartButtonEl.classList.add('colab-df-spinner');\n",
              "      try {\n",
              "        const charts = await google.colab.kernel.invokeFunction(\n",
              "            'suggestCharts', [key], {});\n",
              "      } catch (error) {\n",
              "        console.error('Error during call to suggestCharts:', error);\n",
              "      }\n",
              "      quickchartButtonEl.classList.remove('colab-df-spinner');\n",
              "      quickchartButtonEl.classList.add('colab-df-quickchart-complete');\n",
              "    }\n",
              "    (() => {\n",
              "      let quickchartButtonEl =\n",
              "        document.querySelector('#df-a41a2f9b-0c0a-4f12-b7ce-d85d4c1a8ffe button');\n",
              "      quickchartButtonEl.style.display =\n",
              "        google.colab.kernel.accessAllowed ? 'block' : 'none';\n",
              "    })();\n",
              "  </script>\n",
              "</div>\n",
              "    </div>\n",
              "  </div>\n"
            ]
          },
          "metadata": {},
          "execution_count": 16
        }
      ]
    },
    {
      "cell_type": "markdown",
      "source": [
        "Wartości empiryczne wyraźnie odbiegają od wartości empirycznych, więc można się spodziewać, że analizowana subpopulacja nie będzie w stanie równowagi genetycznej, lecz należy to jeszcze podtwierdzić testem statystycznym wykonanym poniżej."
      ],
      "metadata": {
        "id": "KoVCIJ1vddA4"
      }
    },
    {
      "cell_type": "markdown",
      "source": [
        "Wartości statystyki testowej $\\chi^2$, kwantyl jej rozkładu, p-value oraz decyzja w raporcie poniżej."
      ],
      "metadata": {
        "id": "vG3AjQ368gdM"
      }
    },
    {
      "cell_type": "code",
      "source": [
        "res1.chi2_statistic()"
      ],
      "metadata": {
        "colab": {
          "base_uri": "https://localhost:8080/",
          "height": 81
        },
        "id": "lxb8UfW18cXq",
        "outputId": "71c34c2a-2525-4c39-dc0b-9acb89e01ce7"
      },
      "execution_count": 17,
      "outputs": [
        {
          "output_type": "execute_result",
          "data": {
            "text/plain": [
              "         statistic  quantile       p.value     decision\n",
              "results  28.051676  5.991465  1.181188e-07  H0 rejected"
            ],
            "text/html": [
              "\n",
              "  <div id=\"df-ed7c11ba-77eb-4047-84e1-1689972a022c\" class=\"colab-df-container\">\n",
              "    <div>\n",
              "<style scoped>\n",
              "    .dataframe tbody tr th:only-of-type {\n",
              "        vertical-align: middle;\n",
              "    }\n",
              "\n",
              "    .dataframe tbody tr th {\n",
              "        vertical-align: top;\n",
              "    }\n",
              "\n",
              "    .dataframe thead th {\n",
              "        text-align: right;\n",
              "    }\n",
              "</style>\n",
              "<table border=\"1\" class=\"dataframe\">\n",
              "  <thead>\n",
              "    <tr style=\"text-align: right;\">\n",
              "      <th></th>\n",
              "      <th>statistic</th>\n",
              "      <th>quantile</th>\n",
              "      <th>p.value</th>\n",
              "      <th>decision</th>\n",
              "    </tr>\n",
              "  </thead>\n",
              "  <tbody>\n",
              "    <tr>\n",
              "      <th>results</th>\n",
              "      <td>28.051676</td>\n",
              "      <td>5.991465</td>\n",
              "      <td>1.181188e-07</td>\n",
              "      <td>H0 rejected</td>\n",
              "    </tr>\n",
              "  </tbody>\n",
              "</table>\n",
              "</div>\n",
              "    <div class=\"colab-df-buttons\">\n",
              "\n",
              "  <div class=\"colab-df-container\">\n",
              "    <button class=\"colab-df-convert\" onclick=\"convertToInteractive('df-ed7c11ba-77eb-4047-84e1-1689972a022c')\"\n",
              "            title=\"Convert this dataframe to an interactive table.\"\n",
              "            style=\"display:none;\">\n",
              "\n",
              "  <svg xmlns=\"http://www.w3.org/2000/svg\" height=\"24px\" viewBox=\"0 -960 960 960\">\n",
              "    <path d=\"M120-120v-720h720v720H120Zm60-500h600v-160H180v160Zm220 220h160v-160H400v160Zm0 220h160v-160H400v160ZM180-400h160v-160H180v160Zm440 0h160v-160H620v160ZM180-180h160v-160H180v160Zm440 0h160v-160H620v160Z\"/>\n",
              "  </svg>\n",
              "    </button>\n",
              "\n",
              "  <style>\n",
              "    .colab-df-container {\n",
              "      display:flex;\n",
              "      gap: 12px;\n",
              "    }\n",
              "\n",
              "    .colab-df-convert {\n",
              "      background-color: #E8F0FE;\n",
              "      border: none;\n",
              "      border-radius: 50%;\n",
              "      cursor: pointer;\n",
              "      display: none;\n",
              "      fill: #1967D2;\n",
              "      height: 32px;\n",
              "      padding: 0 0 0 0;\n",
              "      width: 32px;\n",
              "    }\n",
              "\n",
              "    .colab-df-convert:hover {\n",
              "      background-color: #E2EBFA;\n",
              "      box-shadow: 0px 1px 2px rgba(60, 64, 67, 0.3), 0px 1px 3px 1px rgba(60, 64, 67, 0.15);\n",
              "      fill: #174EA6;\n",
              "    }\n",
              "\n",
              "    .colab-df-buttons div {\n",
              "      margin-bottom: 4px;\n",
              "    }\n",
              "\n",
              "    [theme=dark] .colab-df-convert {\n",
              "      background-color: #3B4455;\n",
              "      fill: #D2E3FC;\n",
              "    }\n",
              "\n",
              "    [theme=dark] .colab-df-convert:hover {\n",
              "      background-color: #434B5C;\n",
              "      box-shadow: 0px 1px 3px 1px rgba(0, 0, 0, 0.15);\n",
              "      filter: drop-shadow(0px 1px 2px rgba(0, 0, 0, 0.3));\n",
              "      fill: #FFFFFF;\n",
              "    }\n",
              "  </style>\n",
              "\n",
              "    <script>\n",
              "      const buttonEl =\n",
              "        document.querySelector('#df-ed7c11ba-77eb-4047-84e1-1689972a022c button.colab-df-convert');\n",
              "      buttonEl.style.display =\n",
              "        google.colab.kernel.accessAllowed ? 'block' : 'none';\n",
              "\n",
              "      async function convertToInteractive(key) {\n",
              "        const element = document.querySelector('#df-ed7c11ba-77eb-4047-84e1-1689972a022c');\n",
              "        const dataTable =\n",
              "          await google.colab.kernel.invokeFunction('convertToInteractive',\n",
              "                                                    [key], {});\n",
              "        if (!dataTable) return;\n",
              "\n",
              "        const docLinkHtml = 'Like what you see? Visit the ' +\n",
              "          '<a target=\"_blank\" href=https://colab.research.google.com/notebooks/data_table.ipynb>data table notebook</a>'\n",
              "          + ' to learn more about interactive tables.';\n",
              "        element.innerHTML = '';\n",
              "        dataTable['output_type'] = 'display_data';\n",
              "        await google.colab.output.renderOutput(dataTable, element);\n",
              "        const docLink = document.createElement('div');\n",
              "        docLink.innerHTML = docLinkHtml;\n",
              "        element.appendChild(docLink);\n",
              "      }\n",
              "    </script>\n",
              "  </div>\n",
              "\n",
              "    </div>\n",
              "  </div>\n"
            ]
          },
          "metadata": {},
          "execution_count": 17
        }
      ]
    },
    {
      "cell_type": "markdown",
      "source": [
        "Wartość statystyki testowej wynosi $28.05$. Otrzymane p-value na poziomie $1.18e^{-7}$ jest mniejsze od przyjętego poziomu istotności $(α = 0.05)$, dlatego istnieją podstawy do odrzucenia hipotezy zerowej. Rozkład alleli w subpoplacji *Cancer* wariantu FokI nie jest zgodny z rozkładem Hardy'ego-Weinberg'a. Można zatem stwierdzić, że zgodnie z przypuszczeniami grupa *Cancer* nie jest w stanie równowagi genetycznej."
      ],
      "metadata": {
        "id": "tTSJIlK2AfGd"
      }
    },
    {
      "cell_type": "markdown",
      "source": [
        "### Control FokI"
      ],
      "metadata": {
        "id": "aBmEpOvW_yMl"
      }
    },
    {
      "cell_type": "markdown",
      "source": [
        "$H_0$: Rozkład alleli w subpoplacji `Control` wariantu `FokI` jest zgodny z rozkładem Hardy'ego-Weinberg'a. \\\\\n",
        "$H_1$:  Rozkład alleli w subpoplacji `Control` wariantu `FokI` nie jest zgodny z rozkładem Hardy'ego-Weinberg'a."
      ],
      "metadata": {
        "id": "5saItNVy7rqv"
      }
    },
    {
      "cell_type": "code",
      "source": [
        "control_FOK = fokI[fokI['Grupa'] == 'Control'].groupby('FokI').size()\n",
        "res2 = HardyWeinbergLaw(control_FOK)"
      ],
      "metadata": {
        "id": "NIz0rKTn7u9u"
      },
      "execution_count": 18,
      "outputs": []
    },
    {
      "cell_type": "markdown",
      "source": [
        "Wartości frekwencji alleli $p$ i $q$ wynoszą odpowiednio:"
      ],
      "metadata": {
        "id": "OeKtWLH48LZu"
      }
    },
    {
      "cell_type": "code",
      "source": [
        "res2.freq()"
      ],
      "metadata": {
        "colab": {
          "base_uri": "https://localhost:8080/"
        },
        "id": "c4w0fv2r_fD_",
        "outputId": "92675ceb-f173-4615-d05a-60cb86955b94"
      },
      "execution_count": 19,
      "outputs": [
        {
          "output_type": "execute_result",
          "data": {
            "text/plain": [
              "{'p': 0.4065040650406504, 'q': 0.5934959349593496}"
            ]
          },
          "metadata": {},
          "execution_count": 19
        }
      ]
    },
    {
      "cell_type": "markdown",
      "source": [
        "Oznacza to, że w subpopulacji *Control* wariantu FokI allel dominujący A występuje z częstością ok $0.4$. Natomiast recesywny G występuje częstością równą $0.6$. To znaczy, że w genotypach zdrowych osób częściej występuje allel G."
      ],
      "metadata": {
        "id": "dp08LnAIeNlW"
      }
    },
    {
      "cell_type": "markdown",
      "source": [
        "Wartości empirczyne w porówaniu z wartościami teoretycznymi w tabeli poniżej:"
      ],
      "metadata": {
        "id": "nOikaCjR8eOO"
      }
    },
    {
      "cell_type": "code",
      "source": [
        "res2.data()"
      ],
      "metadata": {
        "colab": {
          "base_uri": "https://localhost:8080/",
          "height": 143
        },
        "id": "cNTY_9Wc_jIm",
        "outputId": "838e9c91-4273-476d-b745-8c423fe05038"
      },
      "execution_count": 20,
      "outputs": [
        {
          "output_type": "execute_result",
          "data": {
            "text/plain": [
              "    emp        teo\n",
              "de   65   60.97561\n",
              "he  170  178.04878\n",
              "re  134  129.97561"
            ],
            "text/html": [
              "\n",
              "  <div id=\"df-ff9ebe5a-1280-4ae9-b293-dd4b99fb2da0\" class=\"colab-df-container\">\n",
              "    <div>\n",
              "<style scoped>\n",
              "    .dataframe tbody tr th:only-of-type {\n",
              "        vertical-align: middle;\n",
              "    }\n",
              "\n",
              "    .dataframe tbody tr th {\n",
              "        vertical-align: top;\n",
              "    }\n",
              "\n",
              "    .dataframe thead th {\n",
              "        text-align: right;\n",
              "    }\n",
              "</style>\n",
              "<table border=\"1\" class=\"dataframe\">\n",
              "  <thead>\n",
              "    <tr style=\"text-align: right;\">\n",
              "      <th></th>\n",
              "      <th>emp</th>\n",
              "      <th>teo</th>\n",
              "    </tr>\n",
              "  </thead>\n",
              "  <tbody>\n",
              "    <tr>\n",
              "      <th>de</th>\n",
              "      <td>65</td>\n",
              "      <td>60.97561</td>\n",
              "    </tr>\n",
              "    <tr>\n",
              "      <th>he</th>\n",
              "      <td>170</td>\n",
              "      <td>178.04878</td>\n",
              "    </tr>\n",
              "    <tr>\n",
              "      <th>re</th>\n",
              "      <td>134</td>\n",
              "      <td>129.97561</td>\n",
              "    </tr>\n",
              "  </tbody>\n",
              "</table>\n",
              "</div>\n",
              "    <div class=\"colab-df-buttons\">\n",
              "\n",
              "  <div class=\"colab-df-container\">\n",
              "    <button class=\"colab-df-convert\" onclick=\"convertToInteractive('df-ff9ebe5a-1280-4ae9-b293-dd4b99fb2da0')\"\n",
              "            title=\"Convert this dataframe to an interactive table.\"\n",
              "            style=\"display:none;\">\n",
              "\n",
              "  <svg xmlns=\"http://www.w3.org/2000/svg\" height=\"24px\" viewBox=\"0 -960 960 960\">\n",
              "    <path d=\"M120-120v-720h720v720H120Zm60-500h600v-160H180v160Zm220 220h160v-160H400v160Zm0 220h160v-160H400v160ZM180-400h160v-160H180v160Zm440 0h160v-160H620v160ZM180-180h160v-160H180v160Zm440 0h160v-160H620v160Z\"/>\n",
              "  </svg>\n",
              "    </button>\n",
              "\n",
              "  <style>\n",
              "    .colab-df-container {\n",
              "      display:flex;\n",
              "      gap: 12px;\n",
              "    }\n",
              "\n",
              "    .colab-df-convert {\n",
              "      background-color: #E8F0FE;\n",
              "      border: none;\n",
              "      border-radius: 50%;\n",
              "      cursor: pointer;\n",
              "      display: none;\n",
              "      fill: #1967D2;\n",
              "      height: 32px;\n",
              "      padding: 0 0 0 0;\n",
              "      width: 32px;\n",
              "    }\n",
              "\n",
              "    .colab-df-convert:hover {\n",
              "      background-color: #E2EBFA;\n",
              "      box-shadow: 0px 1px 2px rgba(60, 64, 67, 0.3), 0px 1px 3px 1px rgba(60, 64, 67, 0.15);\n",
              "      fill: #174EA6;\n",
              "    }\n",
              "\n",
              "    .colab-df-buttons div {\n",
              "      margin-bottom: 4px;\n",
              "    }\n",
              "\n",
              "    [theme=dark] .colab-df-convert {\n",
              "      background-color: #3B4455;\n",
              "      fill: #D2E3FC;\n",
              "    }\n",
              "\n",
              "    [theme=dark] .colab-df-convert:hover {\n",
              "      background-color: #434B5C;\n",
              "      box-shadow: 0px 1px 3px 1px rgba(0, 0, 0, 0.15);\n",
              "      filter: drop-shadow(0px 1px 2px rgba(0, 0, 0, 0.3));\n",
              "      fill: #FFFFFF;\n",
              "    }\n",
              "  </style>\n",
              "\n",
              "    <script>\n",
              "      const buttonEl =\n",
              "        document.querySelector('#df-ff9ebe5a-1280-4ae9-b293-dd4b99fb2da0 button.colab-df-convert');\n",
              "      buttonEl.style.display =\n",
              "        google.colab.kernel.accessAllowed ? 'block' : 'none';\n",
              "\n",
              "      async function convertToInteractive(key) {\n",
              "        const element = document.querySelector('#df-ff9ebe5a-1280-4ae9-b293-dd4b99fb2da0');\n",
              "        const dataTable =\n",
              "          await google.colab.kernel.invokeFunction('convertToInteractive',\n",
              "                                                    [key], {});\n",
              "        if (!dataTable) return;\n",
              "\n",
              "        const docLinkHtml = 'Like what you see? Visit the ' +\n",
              "          '<a target=\"_blank\" href=https://colab.research.google.com/notebooks/data_table.ipynb>data table notebook</a>'\n",
              "          + ' to learn more about interactive tables.';\n",
              "        element.innerHTML = '';\n",
              "        dataTable['output_type'] = 'display_data';\n",
              "        await google.colab.output.renderOutput(dataTable, element);\n",
              "        const docLink = document.createElement('div');\n",
              "        docLink.innerHTML = docLinkHtml;\n",
              "        element.appendChild(docLink);\n",
              "      }\n",
              "    </script>\n",
              "  </div>\n",
              "\n",
              "\n",
              "<div id=\"df-e23921a1-c178-4cca-8bd1-117191341ba8\">\n",
              "  <button class=\"colab-df-quickchart\" onclick=\"quickchart('df-e23921a1-c178-4cca-8bd1-117191341ba8')\"\n",
              "            title=\"Suggest charts\"\n",
              "            style=\"display:none;\">\n",
              "\n",
              "<svg xmlns=\"http://www.w3.org/2000/svg\" height=\"24px\"viewBox=\"0 0 24 24\"\n",
              "     width=\"24px\">\n",
              "    <g>\n",
              "        <path d=\"M19 3H5c-1.1 0-2 .9-2 2v14c0 1.1.9 2 2 2h14c1.1 0 2-.9 2-2V5c0-1.1-.9-2-2-2zM9 17H7v-7h2v7zm4 0h-2V7h2v10zm4 0h-2v-4h2v4z\"/>\n",
              "    </g>\n",
              "</svg>\n",
              "  </button>\n",
              "\n",
              "<style>\n",
              "  .colab-df-quickchart {\n",
              "      --bg-color: #E8F0FE;\n",
              "      --fill-color: #1967D2;\n",
              "      --hover-bg-color: #E2EBFA;\n",
              "      --hover-fill-color: #174EA6;\n",
              "      --disabled-fill-color: #AAA;\n",
              "      --disabled-bg-color: #DDD;\n",
              "  }\n",
              "\n",
              "  [theme=dark] .colab-df-quickchart {\n",
              "      --bg-color: #3B4455;\n",
              "      --fill-color: #D2E3FC;\n",
              "      --hover-bg-color: #434B5C;\n",
              "      --hover-fill-color: #FFFFFF;\n",
              "      --disabled-bg-color: #3B4455;\n",
              "      --disabled-fill-color: #666;\n",
              "  }\n",
              "\n",
              "  .colab-df-quickchart {\n",
              "    background-color: var(--bg-color);\n",
              "    border: none;\n",
              "    border-radius: 50%;\n",
              "    cursor: pointer;\n",
              "    display: none;\n",
              "    fill: var(--fill-color);\n",
              "    height: 32px;\n",
              "    padding: 0;\n",
              "    width: 32px;\n",
              "  }\n",
              "\n",
              "  .colab-df-quickchart:hover {\n",
              "    background-color: var(--hover-bg-color);\n",
              "    box-shadow: 0 1px 2px rgba(60, 64, 67, 0.3), 0 1px 3px 1px rgba(60, 64, 67, 0.15);\n",
              "    fill: var(--button-hover-fill-color);\n",
              "  }\n",
              "\n",
              "  .colab-df-quickchart-complete:disabled,\n",
              "  .colab-df-quickchart-complete:disabled:hover {\n",
              "    background-color: var(--disabled-bg-color);\n",
              "    fill: var(--disabled-fill-color);\n",
              "    box-shadow: none;\n",
              "  }\n",
              "\n",
              "  .colab-df-spinner {\n",
              "    border: 2px solid var(--fill-color);\n",
              "    border-color: transparent;\n",
              "    border-bottom-color: var(--fill-color);\n",
              "    animation:\n",
              "      spin 1s steps(1) infinite;\n",
              "  }\n",
              "\n",
              "  @keyframes spin {\n",
              "    0% {\n",
              "      border-color: transparent;\n",
              "      border-bottom-color: var(--fill-color);\n",
              "      border-left-color: var(--fill-color);\n",
              "    }\n",
              "    20% {\n",
              "      border-color: transparent;\n",
              "      border-left-color: var(--fill-color);\n",
              "      border-top-color: var(--fill-color);\n",
              "    }\n",
              "    30% {\n",
              "      border-color: transparent;\n",
              "      border-left-color: var(--fill-color);\n",
              "      border-top-color: var(--fill-color);\n",
              "      border-right-color: var(--fill-color);\n",
              "    }\n",
              "    40% {\n",
              "      border-color: transparent;\n",
              "      border-right-color: var(--fill-color);\n",
              "      border-top-color: var(--fill-color);\n",
              "    }\n",
              "    60% {\n",
              "      border-color: transparent;\n",
              "      border-right-color: var(--fill-color);\n",
              "    }\n",
              "    80% {\n",
              "      border-color: transparent;\n",
              "      border-right-color: var(--fill-color);\n",
              "      border-bottom-color: var(--fill-color);\n",
              "    }\n",
              "    90% {\n",
              "      border-color: transparent;\n",
              "      border-bottom-color: var(--fill-color);\n",
              "    }\n",
              "  }\n",
              "</style>\n",
              "\n",
              "  <script>\n",
              "    async function quickchart(key) {\n",
              "      const quickchartButtonEl =\n",
              "        document.querySelector('#' + key + ' button');\n",
              "      quickchartButtonEl.disabled = true;  // To prevent multiple clicks.\n",
              "      quickchartButtonEl.classList.add('colab-df-spinner');\n",
              "      try {\n",
              "        const charts = await google.colab.kernel.invokeFunction(\n",
              "            'suggestCharts', [key], {});\n",
              "      } catch (error) {\n",
              "        console.error('Error during call to suggestCharts:', error);\n",
              "      }\n",
              "      quickchartButtonEl.classList.remove('colab-df-spinner');\n",
              "      quickchartButtonEl.classList.add('colab-df-quickchart-complete');\n",
              "    }\n",
              "    (() => {\n",
              "      let quickchartButtonEl =\n",
              "        document.querySelector('#df-e23921a1-c178-4cca-8bd1-117191341ba8 button');\n",
              "      quickchartButtonEl.style.display =\n",
              "        google.colab.kernel.accessAllowed ? 'block' : 'none';\n",
              "    })();\n",
              "  </script>\n",
              "</div>\n",
              "    </div>\n",
              "  </div>\n"
            ]
          },
          "metadata": {},
          "execution_count": 20
        }
      ]
    },
    {
      "cell_type": "markdown",
      "source": [
        "Wartości teoretyczne są podobne do wartości empirycznych, więc na podstawie tabeli można podejrzewać, że subpopulacja *Control* znajduje się w stanie równowagi genetycznej. Należy jednak sprawdzić to odpowiednim testem statystycznym, co zrobiono w kolejnym kroku analizy."
      ],
      "metadata": {
        "id": "AKcLg_3LgckZ"
      }
    },
    {
      "cell_type": "markdown",
      "source": [
        "Wartości statystyki testowej $\\chi^2$, kwantyl jej rozkładu, p-value oraz decyzja w raporcie poniżej."
      ],
      "metadata": {
        "id": "kZuT3dml8tmF"
      }
    },
    {
      "cell_type": "code",
      "source": [
        "res2.chi2_statistic()"
      ],
      "metadata": {
        "colab": {
          "base_uri": "https://localhost:8080/",
          "height": 81
        },
        "id": "wrdeashl_kyr",
        "outputId": "3ca988e7-de9d-4503-d65a-82ca7e0f2d01"
      },
      "execution_count": 21,
      "outputs": [
        {
          "output_type": "execute_result",
          "data": {
            "text/plain": [
              "         statistic  quantile   p.value         decision\n",
              "results   0.754065  5.991465  0.385192  H0 not rejected"
            ],
            "text/html": [
              "\n",
              "  <div id=\"df-c7f03da8-ecda-4510-b080-4e0549cde4dd\" class=\"colab-df-container\">\n",
              "    <div>\n",
              "<style scoped>\n",
              "    .dataframe tbody tr th:only-of-type {\n",
              "        vertical-align: middle;\n",
              "    }\n",
              "\n",
              "    .dataframe tbody tr th {\n",
              "        vertical-align: top;\n",
              "    }\n",
              "\n",
              "    .dataframe thead th {\n",
              "        text-align: right;\n",
              "    }\n",
              "</style>\n",
              "<table border=\"1\" class=\"dataframe\">\n",
              "  <thead>\n",
              "    <tr style=\"text-align: right;\">\n",
              "      <th></th>\n",
              "      <th>statistic</th>\n",
              "      <th>quantile</th>\n",
              "      <th>p.value</th>\n",
              "      <th>decision</th>\n",
              "    </tr>\n",
              "  </thead>\n",
              "  <tbody>\n",
              "    <tr>\n",
              "      <th>results</th>\n",
              "      <td>0.754065</td>\n",
              "      <td>5.991465</td>\n",
              "      <td>0.385192</td>\n",
              "      <td>H0 not rejected</td>\n",
              "    </tr>\n",
              "  </tbody>\n",
              "</table>\n",
              "</div>\n",
              "    <div class=\"colab-df-buttons\">\n",
              "\n",
              "  <div class=\"colab-df-container\">\n",
              "    <button class=\"colab-df-convert\" onclick=\"convertToInteractive('df-c7f03da8-ecda-4510-b080-4e0549cde4dd')\"\n",
              "            title=\"Convert this dataframe to an interactive table.\"\n",
              "            style=\"display:none;\">\n",
              "\n",
              "  <svg xmlns=\"http://www.w3.org/2000/svg\" height=\"24px\" viewBox=\"0 -960 960 960\">\n",
              "    <path d=\"M120-120v-720h720v720H120Zm60-500h600v-160H180v160Zm220 220h160v-160H400v160Zm0 220h160v-160H400v160ZM180-400h160v-160H180v160Zm440 0h160v-160H620v160ZM180-180h160v-160H180v160Zm440 0h160v-160H620v160Z\"/>\n",
              "  </svg>\n",
              "    </button>\n",
              "\n",
              "  <style>\n",
              "    .colab-df-container {\n",
              "      display:flex;\n",
              "      gap: 12px;\n",
              "    }\n",
              "\n",
              "    .colab-df-convert {\n",
              "      background-color: #E8F0FE;\n",
              "      border: none;\n",
              "      border-radius: 50%;\n",
              "      cursor: pointer;\n",
              "      display: none;\n",
              "      fill: #1967D2;\n",
              "      height: 32px;\n",
              "      padding: 0 0 0 0;\n",
              "      width: 32px;\n",
              "    }\n",
              "\n",
              "    .colab-df-convert:hover {\n",
              "      background-color: #E2EBFA;\n",
              "      box-shadow: 0px 1px 2px rgba(60, 64, 67, 0.3), 0px 1px 3px 1px rgba(60, 64, 67, 0.15);\n",
              "      fill: #174EA6;\n",
              "    }\n",
              "\n",
              "    .colab-df-buttons div {\n",
              "      margin-bottom: 4px;\n",
              "    }\n",
              "\n",
              "    [theme=dark] .colab-df-convert {\n",
              "      background-color: #3B4455;\n",
              "      fill: #D2E3FC;\n",
              "    }\n",
              "\n",
              "    [theme=dark] .colab-df-convert:hover {\n",
              "      background-color: #434B5C;\n",
              "      box-shadow: 0px 1px 3px 1px rgba(0, 0, 0, 0.15);\n",
              "      filter: drop-shadow(0px 1px 2px rgba(0, 0, 0, 0.3));\n",
              "      fill: #FFFFFF;\n",
              "    }\n",
              "  </style>\n",
              "\n",
              "    <script>\n",
              "      const buttonEl =\n",
              "        document.querySelector('#df-c7f03da8-ecda-4510-b080-4e0549cde4dd button.colab-df-convert');\n",
              "      buttonEl.style.display =\n",
              "        google.colab.kernel.accessAllowed ? 'block' : 'none';\n",
              "\n",
              "      async function convertToInteractive(key) {\n",
              "        const element = document.querySelector('#df-c7f03da8-ecda-4510-b080-4e0549cde4dd');\n",
              "        const dataTable =\n",
              "          await google.colab.kernel.invokeFunction('convertToInteractive',\n",
              "                                                    [key], {});\n",
              "        if (!dataTable) return;\n",
              "\n",
              "        const docLinkHtml = 'Like what you see? Visit the ' +\n",
              "          '<a target=\"_blank\" href=https://colab.research.google.com/notebooks/data_table.ipynb>data table notebook</a>'\n",
              "          + ' to learn more about interactive tables.';\n",
              "        element.innerHTML = '';\n",
              "        dataTable['output_type'] = 'display_data';\n",
              "        await google.colab.output.renderOutput(dataTable, element);\n",
              "        const docLink = document.createElement('div');\n",
              "        docLink.innerHTML = docLinkHtml;\n",
              "        element.appendChild(docLink);\n",
              "      }\n",
              "    </script>\n",
              "  </div>\n",
              "\n",
              "    </div>\n",
              "  </div>\n"
            ]
          },
          "metadata": {},
          "execution_count": 21
        }
      ]
    },
    {
      "cell_type": "markdown",
      "source": [
        "Wartość statystyki testowej wynosi $0.75$. Otrzymane p-value na poziomie $0.39$ jest większe od przyjętego poziomu istotności ($α = 0.05$), dlatego nie istnieją podstawy do odrzucenia hipotezy zerowej. Rozkład alleli w subpoplacji *Control* wariantu FokI jest zgodny z rozkładem Hardy'ego-Weinberg'a. Na tej podstawie można twierdzić, że grupa *Control* znajduje się w równowadze genetycznej."
      ],
      "metadata": {
        "id": "6mCCDnsYC26B"
      }
    },
    {
      "cell_type": "markdown",
      "source": [
        "### Cancer BsmI"
      ],
      "metadata": {
        "id": "jHbTm7ty_210"
      }
    },
    {
      "cell_type": "markdown",
      "source": [
        "$H_0$: Rozkład alleli w subpoplacji `Cancer` wariantu `BsmI` jest zgodny z rozkładem Hardy'ego-Weinberg'a. \\\\\n",
        "$H_1$:  Rozkład alleli w subpoplacji `Cancer` wariantu `BsmI` nie jest zgodny z rozkładem Hardy'ego-Weinberg'a."
      ],
      "metadata": {
        "id": "6IS1i2pz7unG"
      }
    },
    {
      "cell_type": "code",
      "source": [
        "cancer_BSM = bsm[bsm['Grupa'] == 'Cancer'].groupby('BSM').size()\n",
        "res3 = HardyWeinbergLaw(cancer_BSM)"
      ],
      "metadata": {
        "id": "xz0Tdn2z_75J"
      },
      "execution_count": 22,
      "outputs": []
    },
    {
      "cell_type": "markdown",
      "source": [
        "Wartości frekwencji alleli $p$ i $q$ wynoszą odpowiednio:"
      ],
      "metadata": {
        "id": "76IxNE-C8TQH"
      }
    },
    {
      "cell_type": "code",
      "source": [
        "res3.freq()"
      ],
      "metadata": {
        "colab": {
          "base_uri": "https://localhost:8080/"
        },
        "outputId": "431947b6-7cae-44d7-9ea8-585f109d1ecc",
        "id": "lf3URwoWCFiI"
      },
      "execution_count": 23,
      "outputs": [
        {
          "output_type": "execute_result",
          "data": {
            "text/plain": [
              "{'p': 0.6014492753623188, 'q': 0.39855072463768115}"
            ]
          },
          "metadata": {},
          "execution_count": 23
        }
      ]
    },
    {
      "cell_type": "markdown",
      "source": [
        "Oznacza to, że w subpopulacji *Cancer* wariantu BsmI allel dominujący C występuje z częstością ok. $0.6$. Natomiast recesywny T występuje częstością równą $0.4$. To znaczy, że w genotypach chorych osób częściej występuje allel C."
      ],
      "metadata": {
        "id": "Pr5EUtnYhqfD"
      }
    },
    {
      "cell_type": "markdown",
      "source": [
        "Wartości empirczyne w porówaniu z wartościami teoretycznymi w tabeli poniżej:"
      ],
      "metadata": {
        "id": "3cvAy8Gb8dm1"
      }
    },
    {
      "cell_type": "code",
      "source": [
        "res3.data()"
      ],
      "metadata": {
        "colab": {
          "base_uri": "https://localhost:8080/",
          "height": 143
        },
        "outputId": "2b7b94f9-c140-4f07-b84c-224487cb88de",
        "id": "VayNYYq5CFiI"
      },
      "execution_count": 24,
      "outputs": [
        {
          "output_type": "execute_result",
          "data": {
            "text/plain": [
              "    emp         teo\n",
              "de   96   99.840580\n",
              "he  140  132.318841\n",
              "re   40   43.840580"
            ],
            "text/html": [
              "\n",
              "  <div id=\"df-ed34c344-1097-47a7-9782-b5e6680d5cec\" class=\"colab-df-container\">\n",
              "    <div>\n",
              "<style scoped>\n",
              "    .dataframe tbody tr th:only-of-type {\n",
              "        vertical-align: middle;\n",
              "    }\n",
              "\n",
              "    .dataframe tbody tr th {\n",
              "        vertical-align: top;\n",
              "    }\n",
              "\n",
              "    .dataframe thead th {\n",
              "        text-align: right;\n",
              "    }\n",
              "</style>\n",
              "<table border=\"1\" class=\"dataframe\">\n",
              "  <thead>\n",
              "    <tr style=\"text-align: right;\">\n",
              "      <th></th>\n",
              "      <th>emp</th>\n",
              "      <th>teo</th>\n",
              "    </tr>\n",
              "  </thead>\n",
              "  <tbody>\n",
              "    <tr>\n",
              "      <th>de</th>\n",
              "      <td>96</td>\n",
              "      <td>99.840580</td>\n",
              "    </tr>\n",
              "    <tr>\n",
              "      <th>he</th>\n",
              "      <td>140</td>\n",
              "      <td>132.318841</td>\n",
              "    </tr>\n",
              "    <tr>\n",
              "      <th>re</th>\n",
              "      <td>40</td>\n",
              "      <td>43.840580</td>\n",
              "    </tr>\n",
              "  </tbody>\n",
              "</table>\n",
              "</div>\n",
              "    <div class=\"colab-df-buttons\">\n",
              "\n",
              "  <div class=\"colab-df-container\">\n",
              "    <button class=\"colab-df-convert\" onclick=\"convertToInteractive('df-ed34c344-1097-47a7-9782-b5e6680d5cec')\"\n",
              "            title=\"Convert this dataframe to an interactive table.\"\n",
              "            style=\"display:none;\">\n",
              "\n",
              "  <svg xmlns=\"http://www.w3.org/2000/svg\" height=\"24px\" viewBox=\"0 -960 960 960\">\n",
              "    <path d=\"M120-120v-720h720v720H120Zm60-500h600v-160H180v160Zm220 220h160v-160H400v160Zm0 220h160v-160H400v160ZM180-400h160v-160H180v160Zm440 0h160v-160H620v160ZM180-180h160v-160H180v160Zm440 0h160v-160H620v160Z\"/>\n",
              "  </svg>\n",
              "    </button>\n",
              "\n",
              "  <style>\n",
              "    .colab-df-container {\n",
              "      display:flex;\n",
              "      gap: 12px;\n",
              "    }\n",
              "\n",
              "    .colab-df-convert {\n",
              "      background-color: #E8F0FE;\n",
              "      border: none;\n",
              "      border-radius: 50%;\n",
              "      cursor: pointer;\n",
              "      display: none;\n",
              "      fill: #1967D2;\n",
              "      height: 32px;\n",
              "      padding: 0 0 0 0;\n",
              "      width: 32px;\n",
              "    }\n",
              "\n",
              "    .colab-df-convert:hover {\n",
              "      background-color: #E2EBFA;\n",
              "      box-shadow: 0px 1px 2px rgba(60, 64, 67, 0.3), 0px 1px 3px 1px rgba(60, 64, 67, 0.15);\n",
              "      fill: #174EA6;\n",
              "    }\n",
              "\n",
              "    .colab-df-buttons div {\n",
              "      margin-bottom: 4px;\n",
              "    }\n",
              "\n",
              "    [theme=dark] .colab-df-convert {\n",
              "      background-color: #3B4455;\n",
              "      fill: #D2E3FC;\n",
              "    }\n",
              "\n",
              "    [theme=dark] .colab-df-convert:hover {\n",
              "      background-color: #434B5C;\n",
              "      box-shadow: 0px 1px 3px 1px rgba(0, 0, 0, 0.15);\n",
              "      filter: drop-shadow(0px 1px 2px rgba(0, 0, 0, 0.3));\n",
              "      fill: #FFFFFF;\n",
              "    }\n",
              "  </style>\n",
              "\n",
              "    <script>\n",
              "      const buttonEl =\n",
              "        document.querySelector('#df-ed34c344-1097-47a7-9782-b5e6680d5cec button.colab-df-convert');\n",
              "      buttonEl.style.display =\n",
              "        google.colab.kernel.accessAllowed ? 'block' : 'none';\n",
              "\n",
              "      async function convertToInteractive(key) {\n",
              "        const element = document.querySelector('#df-ed34c344-1097-47a7-9782-b5e6680d5cec');\n",
              "        const dataTable =\n",
              "          await google.colab.kernel.invokeFunction('convertToInteractive',\n",
              "                                                    [key], {});\n",
              "        if (!dataTable) return;\n",
              "\n",
              "        const docLinkHtml = 'Like what you see? Visit the ' +\n",
              "          '<a target=\"_blank\" href=https://colab.research.google.com/notebooks/data_table.ipynb>data table notebook</a>'\n",
              "          + ' to learn more about interactive tables.';\n",
              "        element.innerHTML = '';\n",
              "        dataTable['output_type'] = 'display_data';\n",
              "        await google.colab.output.renderOutput(dataTable, element);\n",
              "        const docLink = document.createElement('div');\n",
              "        docLink.innerHTML = docLinkHtml;\n",
              "        element.appendChild(docLink);\n",
              "      }\n",
              "    </script>\n",
              "  </div>\n",
              "\n",
              "\n",
              "<div id=\"df-1b6b94db-9d69-4ea7-9961-0731341d133f\">\n",
              "  <button class=\"colab-df-quickchart\" onclick=\"quickchart('df-1b6b94db-9d69-4ea7-9961-0731341d133f')\"\n",
              "            title=\"Suggest charts\"\n",
              "            style=\"display:none;\">\n",
              "\n",
              "<svg xmlns=\"http://www.w3.org/2000/svg\" height=\"24px\"viewBox=\"0 0 24 24\"\n",
              "     width=\"24px\">\n",
              "    <g>\n",
              "        <path d=\"M19 3H5c-1.1 0-2 .9-2 2v14c0 1.1.9 2 2 2h14c1.1 0 2-.9 2-2V5c0-1.1-.9-2-2-2zM9 17H7v-7h2v7zm4 0h-2V7h2v10zm4 0h-2v-4h2v4z\"/>\n",
              "    </g>\n",
              "</svg>\n",
              "  </button>\n",
              "\n",
              "<style>\n",
              "  .colab-df-quickchart {\n",
              "      --bg-color: #E8F0FE;\n",
              "      --fill-color: #1967D2;\n",
              "      --hover-bg-color: #E2EBFA;\n",
              "      --hover-fill-color: #174EA6;\n",
              "      --disabled-fill-color: #AAA;\n",
              "      --disabled-bg-color: #DDD;\n",
              "  }\n",
              "\n",
              "  [theme=dark] .colab-df-quickchart {\n",
              "      --bg-color: #3B4455;\n",
              "      --fill-color: #D2E3FC;\n",
              "      --hover-bg-color: #434B5C;\n",
              "      --hover-fill-color: #FFFFFF;\n",
              "      --disabled-bg-color: #3B4455;\n",
              "      --disabled-fill-color: #666;\n",
              "  }\n",
              "\n",
              "  .colab-df-quickchart {\n",
              "    background-color: var(--bg-color);\n",
              "    border: none;\n",
              "    border-radius: 50%;\n",
              "    cursor: pointer;\n",
              "    display: none;\n",
              "    fill: var(--fill-color);\n",
              "    height: 32px;\n",
              "    padding: 0;\n",
              "    width: 32px;\n",
              "  }\n",
              "\n",
              "  .colab-df-quickchart:hover {\n",
              "    background-color: var(--hover-bg-color);\n",
              "    box-shadow: 0 1px 2px rgba(60, 64, 67, 0.3), 0 1px 3px 1px rgba(60, 64, 67, 0.15);\n",
              "    fill: var(--button-hover-fill-color);\n",
              "  }\n",
              "\n",
              "  .colab-df-quickchart-complete:disabled,\n",
              "  .colab-df-quickchart-complete:disabled:hover {\n",
              "    background-color: var(--disabled-bg-color);\n",
              "    fill: var(--disabled-fill-color);\n",
              "    box-shadow: none;\n",
              "  }\n",
              "\n",
              "  .colab-df-spinner {\n",
              "    border: 2px solid var(--fill-color);\n",
              "    border-color: transparent;\n",
              "    border-bottom-color: var(--fill-color);\n",
              "    animation:\n",
              "      spin 1s steps(1) infinite;\n",
              "  }\n",
              "\n",
              "  @keyframes spin {\n",
              "    0% {\n",
              "      border-color: transparent;\n",
              "      border-bottom-color: var(--fill-color);\n",
              "      border-left-color: var(--fill-color);\n",
              "    }\n",
              "    20% {\n",
              "      border-color: transparent;\n",
              "      border-left-color: var(--fill-color);\n",
              "      border-top-color: var(--fill-color);\n",
              "    }\n",
              "    30% {\n",
              "      border-color: transparent;\n",
              "      border-left-color: var(--fill-color);\n",
              "      border-top-color: var(--fill-color);\n",
              "      border-right-color: var(--fill-color);\n",
              "    }\n",
              "    40% {\n",
              "      border-color: transparent;\n",
              "      border-right-color: var(--fill-color);\n",
              "      border-top-color: var(--fill-color);\n",
              "    }\n",
              "    60% {\n",
              "      border-color: transparent;\n",
              "      border-right-color: var(--fill-color);\n",
              "    }\n",
              "    80% {\n",
              "      border-color: transparent;\n",
              "      border-right-color: var(--fill-color);\n",
              "      border-bottom-color: var(--fill-color);\n",
              "    }\n",
              "    90% {\n",
              "      border-color: transparent;\n",
              "      border-bottom-color: var(--fill-color);\n",
              "    }\n",
              "  }\n",
              "</style>\n",
              "\n",
              "  <script>\n",
              "    async function quickchart(key) {\n",
              "      const quickchartButtonEl =\n",
              "        document.querySelector('#' + key + ' button');\n",
              "      quickchartButtonEl.disabled = true;  // To prevent multiple clicks.\n",
              "      quickchartButtonEl.classList.add('colab-df-spinner');\n",
              "      try {\n",
              "        const charts = await google.colab.kernel.invokeFunction(\n",
              "            'suggestCharts', [key], {});\n",
              "      } catch (error) {\n",
              "        console.error('Error during call to suggestCharts:', error);\n",
              "      }\n",
              "      quickchartButtonEl.classList.remove('colab-df-spinner');\n",
              "      quickchartButtonEl.classList.add('colab-df-quickchart-complete');\n",
              "    }\n",
              "    (() => {\n",
              "      let quickchartButtonEl =\n",
              "        document.querySelector('#df-1b6b94db-9d69-4ea7-9961-0731341d133f button');\n",
              "      quickchartButtonEl.style.display =\n",
              "        google.colab.kernel.accessAllowed ? 'block' : 'none';\n",
              "    })();\n",
              "  </script>\n",
              "</div>\n",
              "    </div>\n",
              "  </div>\n"
            ]
          },
          "metadata": {},
          "execution_count": 24
        }
      ]
    },
    {
      "cell_type": "markdown",
      "source": [
        "Wartości teoretyczne są podobne do wartości empirycznych, więc na podstawie tabeli można podejrzewać, że subpopulacja *Cancer* znajduje się w stanie równowagi genetycznej. Należy jednak sprawdzić to odpowiednim testem statystycznym, co zrobiono w kolejnym kroku analizy."
      ],
      "metadata": {
        "id": "REbZ_9LiiCL_"
      }
    },
    {
      "cell_type": "markdown",
      "source": [
        "Wartości statystyki testowej $\\chi^2$, kwantyl jej rozkładu, p-value oraz decyzja w raporcie poniżej."
      ],
      "metadata": {
        "id": "q5fUsUYE8wY_"
      }
    },
    {
      "cell_type": "code",
      "source": [
        "res3.chi2_statistic()"
      ],
      "metadata": {
        "colab": {
          "base_uri": "https://localhost:8080/",
          "height": 81
        },
        "outputId": "69d210dc-e03f-4a93-8f2c-b2d5a8fc79a9",
        "id": "SkZ9W_LzCFiJ"
      },
      "execution_count": 25,
      "outputs": [
        {
          "output_type": "execute_result",
          "data": {
            "text/plain": [
              "         statistic  quantile   p.value         decision\n",
              "results   0.930078  5.991465  0.334843  H0 not rejected"
            ],
            "text/html": [
              "\n",
              "  <div id=\"df-515bc590-8313-4b67-92e4-c1002c174fc3\" class=\"colab-df-container\">\n",
              "    <div>\n",
              "<style scoped>\n",
              "    .dataframe tbody tr th:only-of-type {\n",
              "        vertical-align: middle;\n",
              "    }\n",
              "\n",
              "    .dataframe tbody tr th {\n",
              "        vertical-align: top;\n",
              "    }\n",
              "\n",
              "    .dataframe thead th {\n",
              "        text-align: right;\n",
              "    }\n",
              "</style>\n",
              "<table border=\"1\" class=\"dataframe\">\n",
              "  <thead>\n",
              "    <tr style=\"text-align: right;\">\n",
              "      <th></th>\n",
              "      <th>statistic</th>\n",
              "      <th>quantile</th>\n",
              "      <th>p.value</th>\n",
              "      <th>decision</th>\n",
              "    </tr>\n",
              "  </thead>\n",
              "  <tbody>\n",
              "    <tr>\n",
              "      <th>results</th>\n",
              "      <td>0.930078</td>\n",
              "      <td>5.991465</td>\n",
              "      <td>0.334843</td>\n",
              "      <td>H0 not rejected</td>\n",
              "    </tr>\n",
              "  </tbody>\n",
              "</table>\n",
              "</div>\n",
              "    <div class=\"colab-df-buttons\">\n",
              "\n",
              "  <div class=\"colab-df-container\">\n",
              "    <button class=\"colab-df-convert\" onclick=\"convertToInteractive('df-515bc590-8313-4b67-92e4-c1002c174fc3')\"\n",
              "            title=\"Convert this dataframe to an interactive table.\"\n",
              "            style=\"display:none;\">\n",
              "\n",
              "  <svg xmlns=\"http://www.w3.org/2000/svg\" height=\"24px\" viewBox=\"0 -960 960 960\">\n",
              "    <path d=\"M120-120v-720h720v720H120Zm60-500h600v-160H180v160Zm220 220h160v-160H400v160Zm0 220h160v-160H400v160ZM180-400h160v-160H180v160Zm440 0h160v-160H620v160ZM180-180h160v-160H180v160Zm440 0h160v-160H620v160Z\"/>\n",
              "  </svg>\n",
              "    </button>\n",
              "\n",
              "  <style>\n",
              "    .colab-df-container {\n",
              "      display:flex;\n",
              "      gap: 12px;\n",
              "    }\n",
              "\n",
              "    .colab-df-convert {\n",
              "      background-color: #E8F0FE;\n",
              "      border: none;\n",
              "      border-radius: 50%;\n",
              "      cursor: pointer;\n",
              "      display: none;\n",
              "      fill: #1967D2;\n",
              "      height: 32px;\n",
              "      padding: 0 0 0 0;\n",
              "      width: 32px;\n",
              "    }\n",
              "\n",
              "    .colab-df-convert:hover {\n",
              "      background-color: #E2EBFA;\n",
              "      box-shadow: 0px 1px 2px rgba(60, 64, 67, 0.3), 0px 1px 3px 1px rgba(60, 64, 67, 0.15);\n",
              "      fill: #174EA6;\n",
              "    }\n",
              "\n",
              "    .colab-df-buttons div {\n",
              "      margin-bottom: 4px;\n",
              "    }\n",
              "\n",
              "    [theme=dark] .colab-df-convert {\n",
              "      background-color: #3B4455;\n",
              "      fill: #D2E3FC;\n",
              "    }\n",
              "\n",
              "    [theme=dark] .colab-df-convert:hover {\n",
              "      background-color: #434B5C;\n",
              "      box-shadow: 0px 1px 3px 1px rgba(0, 0, 0, 0.15);\n",
              "      filter: drop-shadow(0px 1px 2px rgba(0, 0, 0, 0.3));\n",
              "      fill: #FFFFFF;\n",
              "    }\n",
              "  </style>\n",
              "\n",
              "    <script>\n",
              "      const buttonEl =\n",
              "        document.querySelector('#df-515bc590-8313-4b67-92e4-c1002c174fc3 button.colab-df-convert');\n",
              "      buttonEl.style.display =\n",
              "        google.colab.kernel.accessAllowed ? 'block' : 'none';\n",
              "\n",
              "      async function convertToInteractive(key) {\n",
              "        const element = document.querySelector('#df-515bc590-8313-4b67-92e4-c1002c174fc3');\n",
              "        const dataTable =\n",
              "          await google.colab.kernel.invokeFunction('convertToInteractive',\n",
              "                                                    [key], {});\n",
              "        if (!dataTable) return;\n",
              "\n",
              "        const docLinkHtml = 'Like what you see? Visit the ' +\n",
              "          '<a target=\"_blank\" href=https://colab.research.google.com/notebooks/data_table.ipynb>data table notebook</a>'\n",
              "          + ' to learn more about interactive tables.';\n",
              "        element.innerHTML = '';\n",
              "        dataTable['output_type'] = 'display_data';\n",
              "        await google.colab.output.renderOutput(dataTable, element);\n",
              "        const docLink = document.createElement('div');\n",
              "        docLink.innerHTML = docLinkHtml;\n",
              "        element.appendChild(docLink);\n",
              "      }\n",
              "    </script>\n",
              "  </div>\n",
              "\n",
              "    </div>\n",
              "  </div>\n"
            ]
          },
          "metadata": {},
          "execution_count": 25
        }
      ]
    },
    {
      "cell_type": "markdown",
      "source": [
        "Wartość statystyki testowej wynosi $0.93$. Otrzymane p-value na poziomie $0.33$ jest większe od przyjętego poziomu istotności $(α = 0.05)$, dlatego nie istnieją podstawy do odrzucenia hipotezy zerowej. Rozkład alleli w subpoplacji *Cancer* wariantu BsmI jest zgodny z rozkładem Hardy'ego-Weinberg'a. Na tej podstawie można twierdzić, że grupa *Cancer* znajduje się w równowadze genetycznej."
      ],
      "metadata": {
        "id": "pivZ3iB7GNGl"
      }
    },
    {
      "cell_type": "markdown",
      "source": [
        "### Control BsmI"
      ],
      "metadata": {
        "id": "9eFrEtgZ_8OP"
      }
    },
    {
      "cell_type": "markdown",
      "source": [
        "$H_0$: Rozkład alleli w subpoplacji `Control` wariantu `BsmI` jest zgodny z rozkładem Hardy'ego-Weinberg'a. \\\\\n",
        "$H_1$:  Rozkład alleli w subpoplacji `Control` wariantu `BsmI` nie jest zgodny z rozkładem Hardy'ego-Weinberg'a."
      ],
      "metadata": {
        "id": "aEAZI2Ac7y3m"
      }
    },
    {
      "cell_type": "code",
      "source": [
        "control_BSM = bsm[bsm['Grupa'] == 'Control'].groupby('BSM').size()\n",
        "res4 = HardyWeinbergLaw(control_BSM)"
      ],
      "metadata": {
        "id": "pXpaJAPd_-BT"
      },
      "execution_count": 26,
      "outputs": []
    },
    {
      "cell_type": "markdown",
      "source": [
        "Wartości frekwencji alleli $p$ i $q$ wynoszą odpowiednio:"
      ],
      "metadata": {
        "id": "Yas677HA8Emo"
      }
    },
    {
      "cell_type": "code",
      "source": [
        "res4.freq()"
      ],
      "metadata": {
        "colab": {
          "base_uri": "https://localhost:8080/"
        },
        "outputId": "c6f9660b-d08e-497f-b3ae-f542b346d9b7",
        "id": "siJnj8j3CGk3"
      },
      "execution_count": 27,
      "outputs": [
        {
          "output_type": "execute_result",
          "data": {
            "text/plain": [
              "{'p': 0.6013071895424836, 'q': 0.39869281045751637}"
            ]
          },
          "metadata": {},
          "execution_count": 27
        }
      ]
    },
    {
      "cell_type": "markdown",
      "source": [
        "Oznacza to, że w subpopulacji *Control* wariantu BsmI allel dominujący C występuje z częstością ok. $0.6$. Natomiast recesywny T występuje częstością równą $0.4$. To znaczy, że w genotypach chorych osób częściej występuje allel C."
      ],
      "metadata": {
        "id": "LWuoIaWJifRi"
      }
    },
    {
      "cell_type": "markdown",
      "source": [
        "Wartości empirczyne w porówaniu z wartościami teoretycznymi w tabeli poniżej:"
      ],
      "metadata": {
        "id": "QKMr5b4y8UpN"
      }
    },
    {
      "cell_type": "code",
      "source": [
        "res4.data()"
      ],
      "metadata": {
        "colab": {
          "base_uri": "https://localhost:8080/",
          "height": 143
        },
        "outputId": "813aafe8-9f8f-458c-e414-3b54b6835f3b",
        "id": "JCs7_sQZCGlA"
      },
      "execution_count": 28,
      "outputs": [
        {
          "output_type": "execute_result",
          "data": {
            "text/plain": [
              "    emp         teo\n",
              "de  106  110.640523\n",
              "he  156  146.718954\n",
              "re   44   48.640523"
            ],
            "text/html": [
              "\n",
              "  <div id=\"df-18a71312-f45c-435b-8182-582ef5c9e746\" class=\"colab-df-container\">\n",
              "    <div>\n",
              "<style scoped>\n",
              "    .dataframe tbody tr th:only-of-type {\n",
              "        vertical-align: middle;\n",
              "    }\n",
              "\n",
              "    .dataframe tbody tr th {\n",
              "        vertical-align: top;\n",
              "    }\n",
              "\n",
              "    .dataframe thead th {\n",
              "        text-align: right;\n",
              "    }\n",
              "</style>\n",
              "<table border=\"1\" class=\"dataframe\">\n",
              "  <thead>\n",
              "    <tr style=\"text-align: right;\">\n",
              "      <th></th>\n",
              "      <th>emp</th>\n",
              "      <th>teo</th>\n",
              "    </tr>\n",
              "  </thead>\n",
              "  <tbody>\n",
              "    <tr>\n",
              "      <th>de</th>\n",
              "      <td>106</td>\n",
              "      <td>110.640523</td>\n",
              "    </tr>\n",
              "    <tr>\n",
              "      <th>he</th>\n",
              "      <td>156</td>\n",
              "      <td>146.718954</td>\n",
              "    </tr>\n",
              "    <tr>\n",
              "      <th>re</th>\n",
              "      <td>44</td>\n",
              "      <td>48.640523</td>\n",
              "    </tr>\n",
              "  </tbody>\n",
              "</table>\n",
              "</div>\n",
              "    <div class=\"colab-df-buttons\">\n",
              "\n",
              "  <div class=\"colab-df-container\">\n",
              "    <button class=\"colab-df-convert\" onclick=\"convertToInteractive('df-18a71312-f45c-435b-8182-582ef5c9e746')\"\n",
              "            title=\"Convert this dataframe to an interactive table.\"\n",
              "            style=\"display:none;\">\n",
              "\n",
              "  <svg xmlns=\"http://www.w3.org/2000/svg\" height=\"24px\" viewBox=\"0 -960 960 960\">\n",
              "    <path d=\"M120-120v-720h720v720H120Zm60-500h600v-160H180v160Zm220 220h160v-160H400v160Zm0 220h160v-160H400v160ZM180-400h160v-160H180v160Zm440 0h160v-160H620v160ZM180-180h160v-160H180v160Zm440 0h160v-160H620v160Z\"/>\n",
              "  </svg>\n",
              "    </button>\n",
              "\n",
              "  <style>\n",
              "    .colab-df-container {\n",
              "      display:flex;\n",
              "      gap: 12px;\n",
              "    }\n",
              "\n",
              "    .colab-df-convert {\n",
              "      background-color: #E8F0FE;\n",
              "      border: none;\n",
              "      border-radius: 50%;\n",
              "      cursor: pointer;\n",
              "      display: none;\n",
              "      fill: #1967D2;\n",
              "      height: 32px;\n",
              "      padding: 0 0 0 0;\n",
              "      width: 32px;\n",
              "    }\n",
              "\n",
              "    .colab-df-convert:hover {\n",
              "      background-color: #E2EBFA;\n",
              "      box-shadow: 0px 1px 2px rgba(60, 64, 67, 0.3), 0px 1px 3px 1px rgba(60, 64, 67, 0.15);\n",
              "      fill: #174EA6;\n",
              "    }\n",
              "\n",
              "    .colab-df-buttons div {\n",
              "      margin-bottom: 4px;\n",
              "    }\n",
              "\n",
              "    [theme=dark] .colab-df-convert {\n",
              "      background-color: #3B4455;\n",
              "      fill: #D2E3FC;\n",
              "    }\n",
              "\n",
              "    [theme=dark] .colab-df-convert:hover {\n",
              "      background-color: #434B5C;\n",
              "      box-shadow: 0px 1px 3px 1px rgba(0, 0, 0, 0.15);\n",
              "      filter: drop-shadow(0px 1px 2px rgba(0, 0, 0, 0.3));\n",
              "      fill: #FFFFFF;\n",
              "    }\n",
              "  </style>\n",
              "\n",
              "    <script>\n",
              "      const buttonEl =\n",
              "        document.querySelector('#df-18a71312-f45c-435b-8182-582ef5c9e746 button.colab-df-convert');\n",
              "      buttonEl.style.display =\n",
              "        google.colab.kernel.accessAllowed ? 'block' : 'none';\n",
              "\n",
              "      async function convertToInteractive(key) {\n",
              "        const element = document.querySelector('#df-18a71312-f45c-435b-8182-582ef5c9e746');\n",
              "        const dataTable =\n",
              "          await google.colab.kernel.invokeFunction('convertToInteractive',\n",
              "                                                    [key], {});\n",
              "        if (!dataTable) return;\n",
              "\n",
              "        const docLinkHtml = 'Like what you see? Visit the ' +\n",
              "          '<a target=\"_blank\" href=https://colab.research.google.com/notebooks/data_table.ipynb>data table notebook</a>'\n",
              "          + ' to learn more about interactive tables.';\n",
              "        element.innerHTML = '';\n",
              "        dataTable['output_type'] = 'display_data';\n",
              "        await google.colab.output.renderOutput(dataTable, element);\n",
              "        const docLink = document.createElement('div');\n",
              "        docLink.innerHTML = docLinkHtml;\n",
              "        element.appendChild(docLink);\n",
              "      }\n",
              "    </script>\n",
              "  </div>\n",
              "\n",
              "\n",
              "<div id=\"df-70b5f529-8e71-45a8-9985-d40d11d92341\">\n",
              "  <button class=\"colab-df-quickchart\" onclick=\"quickchart('df-70b5f529-8e71-45a8-9985-d40d11d92341')\"\n",
              "            title=\"Suggest charts\"\n",
              "            style=\"display:none;\">\n",
              "\n",
              "<svg xmlns=\"http://www.w3.org/2000/svg\" height=\"24px\"viewBox=\"0 0 24 24\"\n",
              "     width=\"24px\">\n",
              "    <g>\n",
              "        <path d=\"M19 3H5c-1.1 0-2 .9-2 2v14c0 1.1.9 2 2 2h14c1.1 0 2-.9 2-2V5c0-1.1-.9-2-2-2zM9 17H7v-7h2v7zm4 0h-2V7h2v10zm4 0h-2v-4h2v4z\"/>\n",
              "    </g>\n",
              "</svg>\n",
              "  </button>\n",
              "\n",
              "<style>\n",
              "  .colab-df-quickchart {\n",
              "      --bg-color: #E8F0FE;\n",
              "      --fill-color: #1967D2;\n",
              "      --hover-bg-color: #E2EBFA;\n",
              "      --hover-fill-color: #174EA6;\n",
              "      --disabled-fill-color: #AAA;\n",
              "      --disabled-bg-color: #DDD;\n",
              "  }\n",
              "\n",
              "  [theme=dark] .colab-df-quickchart {\n",
              "      --bg-color: #3B4455;\n",
              "      --fill-color: #D2E3FC;\n",
              "      --hover-bg-color: #434B5C;\n",
              "      --hover-fill-color: #FFFFFF;\n",
              "      --disabled-bg-color: #3B4455;\n",
              "      --disabled-fill-color: #666;\n",
              "  }\n",
              "\n",
              "  .colab-df-quickchart {\n",
              "    background-color: var(--bg-color);\n",
              "    border: none;\n",
              "    border-radius: 50%;\n",
              "    cursor: pointer;\n",
              "    display: none;\n",
              "    fill: var(--fill-color);\n",
              "    height: 32px;\n",
              "    padding: 0;\n",
              "    width: 32px;\n",
              "  }\n",
              "\n",
              "  .colab-df-quickchart:hover {\n",
              "    background-color: var(--hover-bg-color);\n",
              "    box-shadow: 0 1px 2px rgba(60, 64, 67, 0.3), 0 1px 3px 1px rgba(60, 64, 67, 0.15);\n",
              "    fill: var(--button-hover-fill-color);\n",
              "  }\n",
              "\n",
              "  .colab-df-quickchart-complete:disabled,\n",
              "  .colab-df-quickchart-complete:disabled:hover {\n",
              "    background-color: var(--disabled-bg-color);\n",
              "    fill: var(--disabled-fill-color);\n",
              "    box-shadow: none;\n",
              "  }\n",
              "\n",
              "  .colab-df-spinner {\n",
              "    border: 2px solid var(--fill-color);\n",
              "    border-color: transparent;\n",
              "    border-bottom-color: var(--fill-color);\n",
              "    animation:\n",
              "      spin 1s steps(1) infinite;\n",
              "  }\n",
              "\n",
              "  @keyframes spin {\n",
              "    0% {\n",
              "      border-color: transparent;\n",
              "      border-bottom-color: var(--fill-color);\n",
              "      border-left-color: var(--fill-color);\n",
              "    }\n",
              "    20% {\n",
              "      border-color: transparent;\n",
              "      border-left-color: var(--fill-color);\n",
              "      border-top-color: var(--fill-color);\n",
              "    }\n",
              "    30% {\n",
              "      border-color: transparent;\n",
              "      border-left-color: var(--fill-color);\n",
              "      border-top-color: var(--fill-color);\n",
              "      border-right-color: var(--fill-color);\n",
              "    }\n",
              "    40% {\n",
              "      border-color: transparent;\n",
              "      border-right-color: var(--fill-color);\n",
              "      border-top-color: var(--fill-color);\n",
              "    }\n",
              "    60% {\n",
              "      border-color: transparent;\n",
              "      border-right-color: var(--fill-color);\n",
              "    }\n",
              "    80% {\n",
              "      border-color: transparent;\n",
              "      border-right-color: var(--fill-color);\n",
              "      border-bottom-color: var(--fill-color);\n",
              "    }\n",
              "    90% {\n",
              "      border-color: transparent;\n",
              "      border-bottom-color: var(--fill-color);\n",
              "    }\n",
              "  }\n",
              "</style>\n",
              "\n",
              "  <script>\n",
              "    async function quickchart(key) {\n",
              "      const quickchartButtonEl =\n",
              "        document.querySelector('#' + key + ' button');\n",
              "      quickchartButtonEl.disabled = true;  // To prevent multiple clicks.\n",
              "      quickchartButtonEl.classList.add('colab-df-spinner');\n",
              "      try {\n",
              "        const charts = await google.colab.kernel.invokeFunction(\n",
              "            'suggestCharts', [key], {});\n",
              "      } catch (error) {\n",
              "        console.error('Error during call to suggestCharts:', error);\n",
              "      }\n",
              "      quickchartButtonEl.classList.remove('colab-df-spinner');\n",
              "      quickchartButtonEl.classList.add('colab-df-quickchart-complete');\n",
              "    }\n",
              "    (() => {\n",
              "      let quickchartButtonEl =\n",
              "        document.querySelector('#df-70b5f529-8e71-45a8-9985-d40d11d92341 button');\n",
              "      quickchartButtonEl.style.display =\n",
              "        google.colab.kernel.accessAllowed ? 'block' : 'none';\n",
              "    })();\n",
              "  </script>\n",
              "</div>\n",
              "    </div>\n",
              "  </div>\n"
            ]
          },
          "metadata": {},
          "execution_count": 28
        }
      ]
    },
    {
      "cell_type": "markdown",
      "source": [
        "Wartości teoretyczne są podobne do wartości empirycznych, więc na podstawie tabeli można podejrzewać, że subpopulacja *Control* znajduje się w stanie równowagi genetycznej. Należy jednak sprawdzić to odpowiednim testem statystycznym, co zrobiono w kolejnym kroku analizy."
      ],
      "metadata": {
        "id": "vhvrSIeGiZxM"
      }
    },
    {
      "cell_type": "markdown",
      "source": [
        "Wartości statystyki testowej $\\chi^2$, kwantyl jej rozkładu, p-value oraz decyzja w raporcie poniżej."
      ],
      "metadata": {
        "id": "4sFV_lFo8xOB"
      }
    },
    {
      "cell_type": "code",
      "source": [
        "res4.chi2_statistic()"
      ],
      "metadata": {
        "colab": {
          "base_uri": "https://localhost:8080/",
          "height": 81
        },
        "outputId": "07afa729-0282-448d-da5a-089e476f7c0e",
        "id": "_IhKgntDCGlB"
      },
      "execution_count": 29,
      "outputs": [
        {
          "output_type": "execute_result",
          "data": {
            "text/plain": [
              "         statistic  quantile   p.value         decision\n",
              "results   1.224455  5.991465  0.268488  H0 not rejected"
            ],
            "text/html": [
              "\n",
              "  <div id=\"df-af649056-e699-42a2-89fd-710ccb54f6ca\" class=\"colab-df-container\">\n",
              "    <div>\n",
              "<style scoped>\n",
              "    .dataframe tbody tr th:only-of-type {\n",
              "        vertical-align: middle;\n",
              "    }\n",
              "\n",
              "    .dataframe tbody tr th {\n",
              "        vertical-align: top;\n",
              "    }\n",
              "\n",
              "    .dataframe thead th {\n",
              "        text-align: right;\n",
              "    }\n",
              "</style>\n",
              "<table border=\"1\" class=\"dataframe\">\n",
              "  <thead>\n",
              "    <tr style=\"text-align: right;\">\n",
              "      <th></th>\n",
              "      <th>statistic</th>\n",
              "      <th>quantile</th>\n",
              "      <th>p.value</th>\n",
              "      <th>decision</th>\n",
              "    </tr>\n",
              "  </thead>\n",
              "  <tbody>\n",
              "    <tr>\n",
              "      <th>results</th>\n",
              "      <td>1.224455</td>\n",
              "      <td>5.991465</td>\n",
              "      <td>0.268488</td>\n",
              "      <td>H0 not rejected</td>\n",
              "    </tr>\n",
              "  </tbody>\n",
              "</table>\n",
              "</div>\n",
              "    <div class=\"colab-df-buttons\">\n",
              "\n",
              "  <div class=\"colab-df-container\">\n",
              "    <button class=\"colab-df-convert\" onclick=\"convertToInteractive('df-af649056-e699-42a2-89fd-710ccb54f6ca')\"\n",
              "            title=\"Convert this dataframe to an interactive table.\"\n",
              "            style=\"display:none;\">\n",
              "\n",
              "  <svg xmlns=\"http://www.w3.org/2000/svg\" height=\"24px\" viewBox=\"0 -960 960 960\">\n",
              "    <path d=\"M120-120v-720h720v720H120Zm60-500h600v-160H180v160Zm220 220h160v-160H400v160Zm0 220h160v-160H400v160ZM180-400h160v-160H180v160Zm440 0h160v-160H620v160ZM180-180h160v-160H180v160Zm440 0h160v-160H620v160Z\"/>\n",
              "  </svg>\n",
              "    </button>\n",
              "\n",
              "  <style>\n",
              "    .colab-df-container {\n",
              "      display:flex;\n",
              "      gap: 12px;\n",
              "    }\n",
              "\n",
              "    .colab-df-convert {\n",
              "      background-color: #E8F0FE;\n",
              "      border: none;\n",
              "      border-radius: 50%;\n",
              "      cursor: pointer;\n",
              "      display: none;\n",
              "      fill: #1967D2;\n",
              "      height: 32px;\n",
              "      padding: 0 0 0 0;\n",
              "      width: 32px;\n",
              "    }\n",
              "\n",
              "    .colab-df-convert:hover {\n",
              "      background-color: #E2EBFA;\n",
              "      box-shadow: 0px 1px 2px rgba(60, 64, 67, 0.3), 0px 1px 3px 1px rgba(60, 64, 67, 0.15);\n",
              "      fill: #174EA6;\n",
              "    }\n",
              "\n",
              "    .colab-df-buttons div {\n",
              "      margin-bottom: 4px;\n",
              "    }\n",
              "\n",
              "    [theme=dark] .colab-df-convert {\n",
              "      background-color: #3B4455;\n",
              "      fill: #D2E3FC;\n",
              "    }\n",
              "\n",
              "    [theme=dark] .colab-df-convert:hover {\n",
              "      background-color: #434B5C;\n",
              "      box-shadow: 0px 1px 3px 1px rgba(0, 0, 0, 0.15);\n",
              "      filter: drop-shadow(0px 1px 2px rgba(0, 0, 0, 0.3));\n",
              "      fill: #FFFFFF;\n",
              "    }\n",
              "  </style>\n",
              "\n",
              "    <script>\n",
              "      const buttonEl =\n",
              "        document.querySelector('#df-af649056-e699-42a2-89fd-710ccb54f6ca button.colab-df-convert');\n",
              "      buttonEl.style.display =\n",
              "        google.colab.kernel.accessAllowed ? 'block' : 'none';\n",
              "\n",
              "      async function convertToInteractive(key) {\n",
              "        const element = document.querySelector('#df-af649056-e699-42a2-89fd-710ccb54f6ca');\n",
              "        const dataTable =\n",
              "          await google.colab.kernel.invokeFunction('convertToInteractive',\n",
              "                                                    [key], {});\n",
              "        if (!dataTable) return;\n",
              "\n",
              "        const docLinkHtml = 'Like what you see? Visit the ' +\n",
              "          '<a target=\"_blank\" href=https://colab.research.google.com/notebooks/data_table.ipynb>data table notebook</a>'\n",
              "          + ' to learn more about interactive tables.';\n",
              "        element.innerHTML = '';\n",
              "        dataTable['output_type'] = 'display_data';\n",
              "        await google.colab.output.renderOutput(dataTable, element);\n",
              "        const docLink = document.createElement('div');\n",
              "        docLink.innerHTML = docLinkHtml;\n",
              "        element.appendChild(docLink);\n",
              "      }\n",
              "    </script>\n",
              "  </div>\n",
              "\n",
              "    </div>\n",
              "  </div>\n"
            ]
          },
          "metadata": {},
          "execution_count": 29
        }
      ]
    },
    {
      "cell_type": "markdown",
      "source": [
        "Wartość statystyki testowej wynosi $1.22$. Otrzymane p-value na poziomie $0.27$ jest większe od przyjętego poziomu istotności $(α = 0.05)$, dlatego nie istnieją podstawy do odrzucenia hipotezy zerowej. Rozkład alleli w subpoplacji *Control* wariantu BsmI jest zgodny z rozkładem Hardy'ego-Weinberg'a. Na tej podstawie można twierdzić, że grupa *Control* znajduje się w równowadze genetycznej."
      ],
      "metadata": {
        "id": "ABDRBsQ5KZJN"
      }
    },
    {
      "cell_type": "markdown",
      "source": [
        "## Chi2 test"
      ],
      "metadata": {
        "id": "1jAD6EfAGUAU"
      }
    },
    {
      "cell_type": "markdown",
      "source": [
        "Wykorzystano test $χ^2$ do sprawdzania czy występują istotne różnice pomiędzy liczebnościami w subpopulacjach *Cancer* oraz *Control*. Najpierw przedstawiono liczebności za pomocą wykresów słupkowych. Odzwierciedlają one jak plasują się posczególne liczebności genotypów na tle pozostałych oraz drugiej grupy badanych osób."
      ],
      "metadata": {
        "id": "CGmvGp68jKP2"
      }
    },
    {
      "cell_type": "markdown",
      "source": [
        "### FokI"
      ],
      "metadata": {
        "id": "vT-pj4Q3Gsiq"
      }
    },
    {
      "cell_type": "code",
      "source": [
        "#@title Wykres częstości genotypów w grupach Cancer i Control\n",
        "\n",
        "df_plot = fokI.groupby(['Grupa', 'FokI']).size()\n",
        "\n",
        "# Assuming df_plot is a pandas Series\n",
        "df_plot = df_plot.reset_index(name='Count')\n",
        "\n",
        "# Pivot the DataFrame to have 'FokI' values as columns\n",
        "df_plot_pivot = df_plot.pivot(index='Grupa', columns='FokI', values='Count')\n",
        "\n",
        "# Plot the bar plot\n",
        "ax = df_plot_pivot.plot(kind='bar', color=['red', 'blue', 'green'])\n",
        "\n",
        "# Rotate x-axis tick labels to vertical position\n",
        "ax.set_xticklabels(ax.get_xticklabels(), rotation=360)\n",
        "\n",
        "# Set plot labels and title\n",
        "ax.set_ylim(0,200)\n",
        "ax.set_xlabel('').set_visible(False)\n",
        "ax.set_ylabel('Count')\n",
        "ax.set_title('Bar Plot of FokI Counts in Cancer and Control Groups')\n",
        "\n",
        "# Add values over the bars\n",
        "for p in ax.patches:\n",
        "    ax.annotate(str(p.get_height()), (p.get_x() + p.get_width() / 2., p.get_height()),\n",
        "                ha='center', va='center', xytext=(0, 10), textcoords='offset points')\n",
        "\n",
        "# Move the legend to the left top\n",
        "ax.legend(title='FokI',loc='upper left', bbox_to_anchor=(0, 1), frameon=True)\n",
        "\n",
        "# remove top and right spines\n",
        "ax.spines['top'].set_visible(False)\n",
        "ax.spines['right'].set_visible(False)\n",
        "\n",
        "# Show the plot\n",
        "plt.show()"
      ],
      "metadata": {
        "colab": {
          "base_uri": "https://localhost:8080/",
          "height": 452
        },
        "id": "ojJbtEDjfRk7",
        "outputId": "4e6b3b86-0c64-470b-b865-982e2824209b",
        "cellView": "form"
      },
      "execution_count": 30,
      "outputs": [
        {
          "output_type": "display_data",
          "data": {
            "text/plain": [
              "<Figure size 640x480 with 1 Axes>"
            ],
            "image/png": "[encoded data removed]"
          },
          "metadata": {}
        }
      ]
    },
    {
      "cell_type": "markdown",
      "source": [
        "Na powyższym wykresie wyraźnie widać, że genotypy w grupie *Cancer* są prawie równe sobie, a w grupie *Control* są one o wiele bardziej zróżnicowane. Widać również, że w grupie zdrowych osób o wiele więcej jest geneotypów AG oraz GG a mniej AA i liczebności są o wiele bardziej zróżnicowane. Na pierwszy rzut oka rycina pokazuje nam, że prawdopodbnie istnieją różnice pomiędzy liczebnościami genotypów w grupach. Należy jednak potwierdzić czy są to różnice istotne statystycznie, aby móc wyciągnąć wartościowe wnioski."
      ],
      "metadata": {
        "id": "c_0_SEQCpGdu"
      }
    },
    {
      "cell_type": "markdown",
      "source": [
        "#### Test χ2"
      ],
      "metadata": {
        "id": "kTwd0Z-xnPzm"
      }
    },
    {
      "cell_type": "markdown",
      "source": [
        "$H_0$: Brak różnic w częstościach występowania poszczególnych genotypów wariantu `FokI` pomiędzy grupami `Cancer` i `Control`. \\\\\n",
        "$H_1$: Istnieją różnice w częstościach występowania poszczególnych genotypów wariantu `FokI` pomiędzy grupami `Cancer` i `Control`."
      ],
      "metadata": {
        "id": "erMRow2kAPyX"
      }
    },
    {
      "cell_type": "code",
      "source": [
        "licz_chi2(fokI.groupby(['Grupa', 'FokI']).size())"
      ],
      "metadata": {
        "colab": {
          "base_uri": "https://localhost:8080/"
        },
        "id": "AloGxwcAGuqp",
        "outputId": "dc8d7da6-e09b-403d-eba2-8df14887945c"
      },
      "execution_count": 31,
      "outputs": [
        {
          "output_type": "stream",
          "name": "stdout",
          "text": [
            "Contingency Table\n",
            "[[ 92  94  90]\n",
            " [ 65 170 134]]\n",
            "################\n",
            "Chi2 statistics: 22.21755\n",
            "quantile: 5.99146\n",
            "p-value: 1.4980299955502652e-05\n",
            "H0 rejected\n"
          ]
        }
      ]
    },
    {
      "cell_type": "code",
      "source": [
        "conti = pd.crosstab(fokI['Grupa'], fokI['FokI'])\n",
        "chi, p, _, _ = chi2_contingency(conti)\n",
        "print(f'p-value: {round(p,5)}', f'stat: {round(chi,5)}', sep='; ')"
      ],
      "metadata": {
        "colab": {
          "base_uri": "https://localhost:8080/"
        },
        "id": "BTeh0OjGMH1t",
        "outputId": "7c2f2721-8229-407b-8c68-8c3d0ea00cfc"
      },
      "execution_count": 32,
      "outputs": [
        {
          "output_type": "stream",
          "name": "stdout",
          "text": [
            "p-value: 1e-05; stat: 22.21755\n"
          ]
        }
      ]
    },
    {
      "cell_type": "markdown",
      "source": [
        "Wartość statystyki testowej wynosi $22.22$. Otrzymane p-value na poziomie $1e^{-5}$ jest mniejsze od przyjętego poziomu istotności $(α = 0.05)$, dlatego istnieją podstawy do odrzucenia hipotezy zerowej. Występują różnice w częstościach występowania poszczególnych genotypów wariantu FokI pomiędzy grupami *Cancer* i *Control*."
      ],
      "metadata": {
        "id": "mi0xnTacLW7n"
      }
    },
    {
      "cell_type": "markdown",
      "source": [
        "### BsmI"
      ],
      "metadata": {
        "id": "UYoE8WmOIxGi"
      }
    },
    {
      "cell_type": "code",
      "source": [
        "#@title Wykres częstości genotypów w grupach Cancer i Control\n",
        "\n",
        "df_plot = bsm.groupby(['Grupa', 'BSM']).size()\n",
        "\n",
        "# Assuming df_plot is a pandas Series\n",
        "df_plot = df_plot.reset_index(name='Count')\n",
        "\n",
        "# Pivot the DataFrame to have 'FokI' values as columns\n",
        "df_plot_pivot = df_plot.pivot(index='Grupa', columns='BSM', values='Count')\n",
        "\n",
        "# Plot the bar plot\n",
        "ax = df_plot_pivot.plot(kind='bar', color=['red', 'blue', 'green', 'yellow'])\n",
        "\n",
        "# Rotate x-axis tick labels to vertical position\n",
        "ax.set_xticklabels(ax.get_xticklabels(), rotation=360)\n",
        "\n",
        "# Set plot labels and title\n",
        "ax.set_ylim(0,150)\n",
        "ax.set_xlabel('').set_visible(False)\n",
        "ax.set_ylabel('Count')\n",
        "ax.set_title('Bar Plot of BsmI Counts in Cancer and Control Groups')\n",
        "\n",
        "# Add values over the bars\n",
        "for p in ax.patches:\n",
        "    ax.annotate(str(p.get_height()), (p.get_x() + p.get_width() / 2., p.get_height()),\n",
        "                ha='center', va='center', xytext=(0, 10), textcoords='offset points')\n",
        "\n",
        "# Move the legend to the left top\n",
        "ax.legend(title='BSM',loc='upper right', frameon=True)\n",
        "\n",
        "# remove top and right spines\n",
        "ax.spines['top'].set_visible(False)\n",
        "ax.spines['right'].set_visible(False)\n",
        "\n",
        "# Show the plot\n",
        "plt.show()"
      ],
      "metadata": {
        "colab": {
          "base_uri": "https://localhost:8080/",
          "height": 452
        },
        "id": "V0MFlH2Llc8H",
        "outputId": "fdc96446-a2d4-4e0d-9043-b76b04d28e38",
        "cellView": "form"
      },
      "execution_count": 33,
      "outputs": [
        {
          "output_type": "display_data",
          "data": {
            "text/plain": [
              "<Figure size 640x480 with 1 Axes>"
            ],
            "image/png": "[encoded data removed]"
          },
          "metadata": {}
        }
      ]
    },
    {
      "cell_type": "markdown",
      "source": [
        "Na powyższym wykresie wyraźnie widać, że genotypy w grupie *Cancer* są różne względem siebie oprócz genotypów heterozygotycznych. W grupie *Control* są one o wiele bardziej zróżnicowane. Widać również, że w obu grupach przeważa ilości genotypów CC a mniej TT. Na pierwszy rzut oka rycina pokazuje nam, że prawdopodbnie nie ma różnic pomiędzy liczebnościami genotypów w grupach. Należy jednak potwierdzić, czy są to różnice istotne statystycznie, aby móc wyciągnąć wartościowe wnioski."
      ],
      "metadata": {
        "id": "iYX09w0rq41U"
      }
    },
    {
      "cell_type": "markdown",
      "source": [
        "#### Test χ2"
      ],
      "metadata": {
        "id": "kKJ0k_LUnEkP"
      }
    },
    {
      "cell_type": "markdown",
      "source": [
        "$H_0$: Brak różnic w częstościach występowania poszczególnych genotypów wariantu `BsmI` pomiędzy grupami `Cancer` i `Control`. \\\\\n",
        "$H_1$: Istnieją różnice w częstościach występowania poszczególnych genotypów wariantu `BsmI` pomiędzy grupami `Cancer` i `Control`."
      ],
      "metadata": {
        "id": "zGb5byaZCeBR"
      }
    },
    {
      "cell_type": "code",
      "source": [
        "licz_chi2(bsm.groupby(['Grupa', 'BSM']).size())"
      ],
      "metadata": {
        "colab": {
          "base_uri": "https://localhost:8080/"
        },
        "id": "E5BfyyapI0V0",
        "outputId": "3a580263-58c7-4ecb-ef55-e97863be0b45"
      },
      "execution_count": 34,
      "outputs": [
        {
          "output_type": "stream",
          "name": "stdout",
          "text": [
            "Contingency Table\n",
            "[[ 96  71  69  40]\n",
            " [106  71  85  44]]\n",
            "################\n",
            "Chi2 statistics: 0.80361\n",
            "quantile: 7.81473\n",
            "p-value: 0.8486041381706126\n",
            "H0 not rejected\n"
          ]
        }
      ]
    },
    {
      "cell_type": "code",
      "source": [
        "conti = pd.crosstab(bsm['Grupa'], bsm['BSM'])\n",
        "chi, p, _, _ = chi2_contingency(conti)\n",
        "print(f'p-value: {round(p,5)}', f'stat: {round(chi,5)}', sep='; ')"
      ],
      "metadata": {
        "colab": {
          "base_uri": "https://localhost:8080/"
        },
        "id": "t_aNdF2sQznZ",
        "outputId": "5118f4f1-f728-4a60-8c29-f6c5857dcc8b"
      },
      "execution_count": 35,
      "outputs": [
        {
          "output_type": "stream",
          "name": "stdout",
          "text": [
            "p-value: 0.8486; stat: 0.80361\n"
          ]
        }
      ]
    },
    {
      "cell_type": "markdown",
      "source": [
        "Wartość statystyki testowej wynosi $0.80$. Otrzymane p-value na poziomie $0.85$ jest większe od przyjętego poziomu istotności $(α = 0.05)$, dlatego nie istnieją podstawy do odrzucenia hipotezy zerowej. Brak różnic w częstościach występowania poszczególnych genotypów wariantu BsmI pomiędzy grupami Cancer i Control."
      ],
      "metadata": {
        "id": "MRkCI7DOQsQN"
      }
    },
    {
      "cell_type": "markdown",
      "source": [
        "## Odds Ratio Test"
      ],
      "metadata": {
        "id": "PFn4JDqYJKon"
      }
    },
    {
      "cell_type": "markdown",
      "source": [
        "Ostatnim krokiem analizy było sprawdzenie, które z alleli częściej występują w genotypach wariantów FokI i BsmI."
      ],
      "metadata": {
        "id": "6VftaBmNvnET"
      }
    },
    {
      "cell_type": "markdown",
      "source": [
        "### FokI"
      ],
      "metadata": {
        "id": "L4Vu4kGNLiGk"
      }
    },
    {
      "cell_type": "markdown",
      "source": [
        "Tabela kontyngencji alleli wariantu FokI przedstawia się następująco:\n",
        "\n",
        "<center>\n",
        "<table>\n",
        "<tr>\n",
        "<th> </th>\n",
        "<th>Cancer</th>\n",
        "<th>Control</th>\n",
        "</tr>\n",
        "<tr>\n",
        "  <td>A</td>\n",
        "  <td><center>139</center></td>\n",
        "  <td><center>150</center></td>\n",
        "<tr>\n",
        "<tr>\n",
        "  <td>G</td>\n",
        "  <td><center>137</center></td>\n",
        "  <td><center>219</center></td>\n",
        "<tr>\n",
        "</table>\n",
        "</center>"
      ],
      "metadata": {
        "id": "3BI9b1lTv-QM"
      }
    },
    {
      "cell_type": "markdown",
      "source": [
        "$H_0$: Allel A częściej występuje w genotypach wariantu `FokI` niż allel G. [OR > 1] \\\\\n",
        "$H_1$: Allel A rzadziej występuje w genotypach wariantu `FokI` niż allel G [OR < 1]"
      ],
      "metadata": {
        "id": "kt4uqa2-DIAA"
      }
    },
    {
      "cell_type": "code",
      "source": [
        "oddsratio(fokI, 'FokI')"
      ],
      "metadata": {
        "colab": {
          "base_uri": "https://localhost:8080/",
          "height": 36
        },
        "id": "A-zZMN5fJkXw",
        "outputId": "d98439d3-4171-4750-8bc8-251384c0e058"
      },
      "execution_count": 36,
      "outputs": [
        {
          "output_type": "execute_result",
          "data": {
            "text/plain": [
              "'Odds ratio: 1.35293'"
            ],
            "application/vnd.google.colaboratory.intrinsic+json": {
              "type": "string"
            }
          },
          "metadata": {},
          "execution_count": 36
        }
      ]
    },
    {
      "cell_type": "markdown",
      "source": [
        "Iloraz szans wynosi $1.35$ i przekracza wartość $1$. Na tej podstawie można wnioskować, że Allel A częściej występuje w genotypach wariantu FokI niż allel G."
      ],
      "metadata": {
        "id": "eoCYvvTXVn2a"
      }
    },
    {
      "cell_type": "markdown",
      "source": [
        "### BsmI"
      ],
      "metadata": {
        "id": "QcdJ0DS9Lj14"
      }
    },
    {
      "cell_type": "markdown",
      "source": [
        "Tabela kontyngencji alleli wariantu BsmI przedstawia się następująco:\n",
        "\n",
        "<center>\n",
        "<table>\n",
        "<tr>\n",
        "<th> </th>\n",
        "<th>Cancer</th>\n",
        "<th>Control</th>\n",
        "</tr>\n",
        "<tr>\n",
        "  <td>C</td>\n",
        "  <td><center>166</center></td>\n",
        "  <td><center>184</center></td>\n",
        "<tr>\n",
        "<tr>\n",
        "  <td>T</td>\n",
        "  <td><center>139</center></td>\n",
        "  <td><center>163</center></td>\n",
        "<tr>\n",
        "</table>\n",
        "</center>"
      ],
      "metadata": {
        "id": "tDgmuADfwWy2"
      }
    },
    {
      "cell_type": "markdown",
      "source": [
        "$H_0$: Allel C częściej występuje w genotypach wariantu `BsmI` niż allel T. [OR > 1] \\\\\n",
        "$H_1$: Allel C rzadziej występuje w genotypach wariantu `BsmI` niż allel T [OR < 1]"
      ],
      "metadata": {
        "id": "413-C16oDkTY"
      }
    },
    {
      "cell_type": "code",
      "source": [
        "oddsratio(bsm, 'BSM')"
      ],
      "metadata": {
        "colab": {
          "base_uri": "https://localhost:8080/",
          "height": 36
        },
        "id": "b6rYOqncJqjI",
        "outputId": "6460a23d-c0a7-4c7c-ded5-4742ebb6cde2"
      },
      "execution_count": 37,
      "outputs": [
        {
          "output_type": "execute_result",
          "data": {
            "text/plain": [
              "'Odds ratio: 0.79921'"
            ],
            "application/vnd.google.colaboratory.intrinsic+json": {
              "type": "string"
            }
          },
          "metadata": {},
          "execution_count": 37
        }
      ]
    },
    {
      "cell_type": "markdown",
      "source": [
        "Iloraz szans wynosi $0.80$ i nie przekracza wartości $1$. Na tej podstawie można wnioskować, że allel C rzadziej występuje w genotypach wariantu BsmI niż allel T."
      ],
      "metadata": {
        "id": "2B4q52BcTY6D"
      }
    },
    {
      "cell_type": "markdown",
      "source": [
        "# PODSUMOWANIE"
      ],
      "metadata": {
        "id": "82MPKlHpLtYv"
      }
    },
    {
      "cell_type": "markdown",
      "source": [
        "W niniejszej pracy postawiono szereg hipotez dla rozkładu genotypów polimorfizmów genu VDR. Pierwsza z nich miała na celu sprawdzenie, czy częstości alleli i genotypów w populacji będą kształtować się zgodnie z przewidywaniami prawa Hardy'ego-Weinberga. W przypadku wariantu FokI zaobserwowano, że rozkład alleli w subpopulacji *Cancer* odbiega od rozkładu Hardy'ego-Weinberga, natomiast w *Control* tego samego wariantu, rozkład alleli jest zgodny z tymże prawem. W odniesieniu do wariantu BsmI, analiza statystyczna wykazała, że rozkład alleli zarówno w subpopulacji nowotworowej, jak i kontrolnej jest zgodny z rozkładem Hardy'ego-Weinberga, co sugeruje zachowaną równowagę genetyczną w obu grupach.\n",
        "\n",
        "W Kolejnych krokach poddano testowaniu hipotezy dotyczące różnic w częstościach występowania poszczególnych genotypów w grupach. Wywnioskowano, że ma miejsce rozbieżność we frekwencjach występowania poszczególnych genotypów wariantu FokI pomiędzy grupami *Cancer* i *Control*, natomiast nie ma podstaw, aby przypuszczać taki sam stan rzeczy, jeśli chodzi o BsmI.\n",
        "\n",
        "Korzystając z ilorazu szans otrzymano informacje, że Allel A częściej występuje w genotypach wariantu FokI niż allel G, a dla BsmI allel C występuje rzadziej niż T."
      ],
      "metadata": {
        "id": "NZnQCdV9L9_2"
      }
    },
    {
      "cell_type": "markdown",
      "source": [
        "# LITERATURA"
      ],
      "metadata": {
        "id": "4Q7Bq4vEJLpb"
      }
    },
    {
      "cell_type": "markdown",
      "source": [
        "[1] Lisowska, K. A., & Bryl, E. (2017). Rola witaminy D w rozwoju chorób autoimmunologicznych. Postępy Higieny i Medycyny Doświadczalnej, 71, 797-810.\n",
        "\n",
        "[2] Wysoczańska-Klaczyńska, A., Ślęzak, A., Hetman, M.,  & Barg, E. (2018). The impact of VDR gene polymorphisms on obesity, metabolic changes, bone mass disorders and neoplastic processes. Pediatric Endocrinology Diabetes and Metabolism, 24(2), 96-105.\n",
        "\n",
        "[3] Małecki, M., Skupień, J., Waluś-Miarka, M., Owczarek, M., Czogała, M., Miarka, P., ... & Sieradzki, J. (2003). Polimorfizmy genu receptora witaminy D a ryzyko choroby niedokrwiennej serca w Polsce u chorych na cukrzycę typu 2 iu osób bez cukrzycy. Diabetologia Praktyczna, 4(2)."
      ],
      "metadata": {
        "id": "hkDw287SJQ9L"
      }
    }
  ]
}